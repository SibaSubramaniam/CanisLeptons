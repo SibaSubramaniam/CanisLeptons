{
 "cells": [
  {
   "cell_type": "markdown",
   "metadata": {},
   "source": [
    "## Necessary Imports"
   ]
  },
  {
   "cell_type": "code",
   "execution_count": 1,
   "metadata": {},
   "outputs": [
    {
     "data": {
      "text/html": [
       "<script type=\"text/javascript\">window.PlotlyConfig = {MathJaxConfig: 'local'};</script><script type=\"text/javascript\">if (window.MathJax) {MathJax.Hub.Config({SVG: {font: \"STIX-Web\"}});}</script><script>requirejs.config({paths: { 'plotly': ['https://cdn.plot.ly/plotly-latest.min']},});if(!window._Plotly) {require(['plotly'],function(plotly) {window._Plotly=plotly;});}</script>"
      ],
      "text/vnd.plotly.v1+html": [
       "<script type=\"text/javascript\">window.PlotlyConfig = {MathJaxConfig: 'local'};</script><script type=\"text/javascript\">if (window.MathJax) {MathJax.Hub.Config({SVG: {font: \"STIX-Web\"}});}</script><script>requirejs.config({paths: { 'plotly': ['https://cdn.plot.ly/plotly-latest.min']},});if(!window._Plotly) {require(['plotly'],function(plotly) {window._Plotly=plotly;});}</script>"
      ]
     },
     "metadata": {},
     "output_type": "display_data"
    }
   ],
   "source": [
    "%matplotlib qt\n",
    "\n",
    "import pandas as pd\n",
    "import numpy as np\n",
    "import matplotlib.pyplot as plt\n",
    "import time\n",
    "import glob\n",
    "import pickle\n",
    "\n",
    "from sklearn import tree\n",
    "from sklearn import svm\n",
    "from sklearn.linear_model import LogisticRegression, SGDClassifier\n",
    "from sklearn.preprocessing import normalize\n",
    "from sklearn.ensemble import RandomForestClassifier\n",
    "\n",
    "\n",
    "from plotly.offline import download_plotlyjs, init_notebook_mode, plot, iplot\n",
    "import plotly.graph_objs as go\n",
    "init_notebook_mode(connected=True)"
   ]
  },
  {
   "cell_type": "code",
   "execution_count": 2,
   "metadata": {},
   "outputs": [],
   "source": [
    "from mlmodel.analysis import Analyser\n",
    "from mlmodel.cross_validation import Purged_validation, HyperParameterTuning\n",
    "from mlmodel.validation import Validation"
   ]
  },
  {
   "cell_type": "markdown",
   "metadata": {},
   "source": [
    "## Object creation"
   ]
  },
  {
   "cell_type": "code",
   "execution_count": 3,
   "metadata": {},
   "outputs": [
    {
     "data": {
      "text/html": [
       "<script type=\"text/javascript\">window.PlotlyConfig = {MathJaxConfig: 'local'};</script><script type=\"text/javascript\">if (window.MathJax) {MathJax.Hub.Config({SVG: {font: \"STIX-Web\"}});}</script><script>requirejs.config({paths: { 'plotly': ['https://cdn.plot.ly/plotly-latest.min']},});if(!window._Plotly) {require(['plotly'],function(plotly) {window._Plotly=plotly;});}</script>"
      ],
      "text/vnd.plotly.v1+html": [
       "<script type=\"text/javascript\">window.PlotlyConfig = {MathJaxConfig: 'local'};</script><script type=\"text/javascript\">if (window.MathJax) {MathJax.Hub.Config({SVG: {font: \"STIX-Web\"}});}</script><script>requirejs.config({paths: { 'plotly': ['https://cdn.plot.ly/plotly-latest.min']},});if(!window._Plotly) {require(['plotly'],function(plotly) {window._Plotly=plotly;});}</script>"
      ]
     },
     "metadata": {},
     "output_type": "display_data"
    },
    {
     "data": {
      "text/html": [
       "<script type=\"text/javascript\">window.PlotlyConfig = {MathJaxConfig: 'local'};</script><script type=\"text/javascript\">if (window.MathJax) {MathJax.Hub.Config({SVG: {font: \"STIX-Web\"}});}</script><script>requirejs.config({paths: { 'plotly': ['https://cdn.plot.ly/plotly-latest.min']},});if(!window._Plotly) {require(['plotly'],function(plotly) {window._Plotly=plotly;});}</script>"
      ],
      "text/vnd.plotly.v1+html": [
       "<script type=\"text/javascript\">window.PlotlyConfig = {MathJaxConfig: 'local'};</script><script type=\"text/javascript\">if (window.MathJax) {MathJax.Hub.Config({SVG: {font: \"STIX-Web\"}});}</script><script>requirejs.config({paths: { 'plotly': ['https://cdn.plot.ly/plotly-latest.min']},});if(!window._Plotly) {require(['plotly'],function(plotly) {window._Plotly=plotly;});}</script>"
      ]
     },
     "metadata": {},
     "output_type": "display_data"
    },
    {
     "name": "stderr",
     "output_type": "stream",
     "text": [
      "Using TensorFlow backend.\n"
     ]
    }
   ],
   "source": [
    "from datagen import DataGen\n",
    "test=DataGen()\n",
    "\n",
    "from visualize.visualize import Visualizer\n",
    "vl=Visualizer()\n",
    "\n",
    "from mlmodel.performanceMetrics import Metrics\n",
    "met_ob = Metrics()\n",
    "\n",
    "#model selection\n",
    "from mlmodel.split import Split\n",
    "from mlmodel.performanceMetrics import Metrics\n",
    "from mlmodel.mlclassfier import MLClassifier\n",
    "from mlmodel.sequential_bootstrap import sequentialBootstrap\n",
    "from mlmodel.analysis import Analyser\n",
    "from mlmodel.validation import Validation\n",
    "\n",
    "# For ML\n",
    "split_ob = Split()\n",
    "metrics_ob = Metrics()\n",
    "model_ob = MLClassifier()\n",
    "sb_ob = sequentialBootstrap()\n",
    "an_ob = Analyser()\n",
    "val_ob = Validation()\n",
    "\n",
    "val_ob = Validation()\n",
    "hpt_ob = HyperParameterTuning()\n",
    "pv_ob = Purged_validation()"
   ]
  },
  {
   "cell_type": "markdown",
   "metadata": {},
   "source": [
    "## Inputs"
   ]
  },
  {
   "cell_type": "code",
   "execution_count": 4,
   "metadata": {},
   "outputs": [],
   "source": [
    "folder_name='data/historical_price_data/'\n",
    "bar_type='time'             #type of bars possible_values: dollar,time,ticks,volume\n",
    "threshold=300               #threshold for the given type of bar\n",
    "\n",
    "#normalization\n",
    "before=True                #flag that denotes normalizing before/after bars creation\n",
    "normalize=True             #flag that specifies whether normalization should be done\n",
    "norm_method='multiply'     #method for nomalization include 'multiply','min_max'\n",
    "norm_val=100               #threshold for the above mentioned method\n",
    "\n",
    "\n",
    "# Labels\n",
    "volatility_threshold=20    #threshold in bars for volatility which is standard deviation of returns\n",
    "sampling=False             #flag to control downsampling\n",
    "v_bars_duration=20           #threshold in bars for vertical_bars which denotes a dataframe in triple-barrier method\n",
    "barrier_conf=[2,4]          #stop loss and profit taking limits [0]denotes stop loss and [1]denotes profit taking\n",
    "min_return=0                #minimum values for return in triple-barrier method\n",
    "risk=0                      #risk for calculating sharp_ration\n",
    "sign_label=True             #flag to determine labels of vertical bars t1b\n",
    "\n",
    "# Features\n",
    "sma_period = [10, 20] # [10, 15, 20]\n",
    "ema_period = [10, 20] # [10, 15, 20]\n",
    "BB_period  = [15]\n",
    "rsi_period = [15]\n",
    "williamsr_period = [15]\n",
    "roc_period = [15]\n",
    "adl_period = [15]\n",
    "vpt_period = [0] # 0:  period is not required\n",
    "emv_period = [0] # 0:  period is not required\n",
    "\n",
    "feature_list = ['sma',      'ema',    'BB',       'rsi',     'williamsr',        'roc', \n",
    "                'adl',     'vpt',   'emv']   #feature list \n",
    "period_all =[sma_period, ema_period, BB_period, rsi_period, williamsr_period, roc_period, \n",
    "             adl_period, vpt_period, emv_period ]  # feature list period (change this if feature_list_changed)\n",
    "\n"
   ]
  },
  {
   "cell_type": "markdown",
   "metadata": {},
   "source": [
    "## Data Generator"
   ]
  },
  {
   "cell_type": "code",
   "execution_count": null,
   "metadata": {},
   "outputs": [
    {
     "name": "stdout",
     "output_type": "stream",
     "text": [
      "Labels:  -1.0    29387\n",
      " 1.0    15168\n",
      " 0.0     9389\n",
      "Name: label, dtype: int64\n",
      "[Errno 2] No such file or directory: 'saved_runs/MAIN_df_BNBBTC'\n",
      "[Errno 2] No such file or directory: 'saved_runs/MAIN_df_BNBBTC_normalized_main_df_True_True_100_multiply'\n",
      "[Errno 2] No such file or directory: 'saved_runs/cstk_df_BNBBTC_time_300_True_True_100_multiply'\n"
     ]
    }
   ],
   "source": [
    "raw_data,labels,labels_features=test.create_data(folder_name,feature_list,period_all,before,normalize,norm_val,norm_method,bar_type,threshold,sampling,volatility_threshold,v_bars_duration,\n",
    "                            barrier_conf,min_return,risk,sign_label)"
   ]
  },
  {
   "cell_type": "code",
   "execution_count": null,
   "metadata": {},
   "outputs": [],
   "source": [
    "raw_data.head(2)"
   ]
  },
  {
   "cell_type": "code",
   "execution_count": null,
   "metadata": {},
   "outputs": [],
   "source": [
    "labels.head(2)"
   ]
  },
  {
   "cell_type": "code",
   "execution_count": null,
   "metadata": {},
   "outputs": [],
   "source": [
    "labels_features.head(2)"
   ]
  },
  {
   "cell_type": "code",
   "execution_count": null,
   "metadata": {},
   "outputs": [],
   "source": [
    "vl.marker_plot(labels)"
   ]
  },
  {
   "cell_type": "code",
   "execution_count": null,
   "metadata": {},
   "outputs": [],
   "source": [
    "\n"
   ]
  },
  {
   "cell_type": "code",
   "execution_count": null,
   "metadata": {},
   "outputs": [],
   "source": [
    "df=labels_features\n",
    "df = df.dropna()\n",
    "df.head()"
   ]
  },
  {
   "cell_type": "markdown",
   "metadata": {},
   "source": [
    "## ML"
   ]
  },
  {
   "cell_type": "code",
   "execution_count": null,
   "metadata": {},
   "outputs": [],
   "source": [
    "X = df.iloc[:, :-1]\n",
    "y = df.iloc[:, -1]\n",
    "train_X, train_y, test_X, test_y = split_ob.train_test_split(X, y, 0.7) # split training-testing data"
   ]
  },
  {
   "cell_type": "raw",
   "metadata": {},
   "source": [
    "tt = [5, 10, 15,20,30]\n",
    "for i in tt:\n",
    "    clf = tree.DecisionTreeClassifier(max_depth = i)\n",
    "    clf = clf.fit(train_X, train_y)\n",
    "    acc_train = clf.score(train_X, train_y)\n",
    "    acc_test = clf.score(test_X, test_y)\n",
    "    \n",
    "    ###########################################\n",
    "    ### Sharpe ratio calculation ##############\n",
    "    ###########################################\n",
    "    \n",
    "    preds=clf.predict(test_X)\n",
    "    temp_df = test_X.copy(deep=True)\n",
    "    temp_df['label']=preds\n",
    "    temp_df=met_ob.sharpe_ratio(temp_df)\n",
    "    \n",
    "    sr = (abs(temp_df['sharpe_ratio'])).mean()\n",
    "    \n",
    "    print(i, ' train: ',  acc_train, ' test: ',  acc_test, ' shapre ratio: ',sr)"
   ]
  },
  {
   "cell_type": "code",
   "execution_count": null,
   "metadata": {},
   "outputs": [],
   "source": [
    "from sklearn.ensemble import RandomForestClassifier\n",
    "from sklearn.ensemble import BaggingClassifier\n",
    "\n",
    "rf = RandomForestClassifier(n_estimators=1, bootstrap=False,class_weight='balanced_subsample')\n",
    "rf = BaggingClassifier(base_estimator=rf)\n",
    "pctEmbargo=0.01"
   ]
  },
  {
   "cell_type": "code",
   "execution_count": null,
   "metadata": {},
   "outputs": [],
   "source": [
    "X = labels_features\n",
    "\n",
    "X['Date'] = raw_data['DateStop']\n",
    "X = X.set_index('Date')\n",
    "\n",
    "t1 = pd.Series(raw_data['DateStop'])"
   ]
  },
  {
   "cell_type": "code",
   "execution_count": null,
   "metadata": {},
   "outputs": [],
   "source": [
    "pv_ob.learning_curve(rf, X, y, t1=t1, cv=5, pctEmbargo=pctEmbargo)"
   ]
  },
  {
   "cell_type": "markdown",
   "metadata": {},
   "source": [
    "# Get predictions of test_X"
   ]
  },
  {
   "cell_type": "code",
   "execution_count": null,
   "metadata": {},
   "outputs": [],
   "source": [
    "y_pred=clf.predict(test_X)\n",
    "pred_df = test_X.copy(deep=True)\n",
    "pred_df['label']=y_pred"
   ]
  },
  {
   "cell_type": "code",
   "execution_count": null,
   "metadata": {},
   "outputs": [],
   "source": [
    "# calculate sharpe ratio for predicted labels\n",
    "# pred_df is dataframe for calculating sharpe ratio\n",
    "pred_df=met_ob.sharpe_ratio(pred_df)\n",
    "pred_df.head()"
   ]
  },
  {
   "cell_type": "markdown",
   "metadata": {},
   "source": [
    "# Get un-predicted labels and respective features of test_X"
   ]
  },
  {
   "cell_type": "code",
   "execution_count": null,
   "metadata": {},
   "outputs": [],
   "source": [
    "un_pred_df = test_X.copy(deep=True)\n",
    "un_pred_df['label'] = test_y"
   ]
  },
  {
   "cell_type": "code",
   "execution_count": null,
   "metadata": {},
   "outputs": [],
   "source": [
    "# calculate sharpe ratio for un-predicted labels (the ones generated by triple barrier method)\n",
    "# pred_df is dataframe for calculating sharpe ratio\n",
    "un_pred_df=met_ob.sharpe_ratio(un_pred_df)\n",
    "un_pred_df.head()"
   ]
  },
  {
   "cell_type": "markdown",
   "metadata": {},
   "source": [
    "# Compare sharpe_ratio"
   ]
  },
  {
   "cell_type": "raw",
   "metadata": {},
   "source": [
    "vl.share_plot(un_pred_df['sharpe_ratio'],pred_df['sharpe_ratio'])"
   ]
  }
 ],
 "metadata": {
  "kernelspec": {
   "display_name": "Python 3",
   "language": "python",
   "name": "python3"
  },
  "language_info": {
   "codemirror_mode": {
    "name": "ipython",
    "version": 3
   },
   "file_extension": ".py",
   "mimetype": "text/x-python",
   "name": "python",
   "nbconvert_exporter": "python",
   "pygments_lexer": "ipython3",
   "version": "3.6.7"
  },
  "varInspector": {
   "cols": {
    "lenName": 16,
    "lenType": 16,
    "lenVar": 40
   },
   "kernels_config": {
    "python": {
     "delete_cmd_postfix": "",
     "delete_cmd_prefix": "del ",
     "library": "var_list.py",
     "varRefreshCmd": "print(var_dic_list())"
    },
    "r": {
     "delete_cmd_postfix": ") ",
     "delete_cmd_prefix": "rm(",
     "library": "var_list.r",
     "varRefreshCmd": "cat(var_dic_list()) "
    }
   },
   "types_to_exclude": [
    "module",
    "function",
    "builtin_function_or_method",
    "instance",
    "_Feature"
   ],
   "window_display": false
  }
 },
 "nbformat": 4,
 "nbformat_minor": 2
}
