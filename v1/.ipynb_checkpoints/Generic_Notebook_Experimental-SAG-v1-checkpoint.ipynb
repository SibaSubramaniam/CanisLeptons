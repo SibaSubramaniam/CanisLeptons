{
 "cells": [
  {
   "cell_type": "markdown",
   "metadata": {},
   "source": [
    "## Necessary Imports"
   ]
  },
  {
   "cell_type": "code",
   "execution_count": 1,
   "metadata": {},
   "outputs": [
    {
     "data": {
      "text/html": [
       "<script type=\"text/javascript\">window.PlotlyConfig = {MathJaxConfig: 'local'};</script><script type=\"text/javascript\">if (window.MathJax) {MathJax.Hub.Config({SVG: {font: \"STIX-Web\"}});}</script><script>requirejs.config({paths: { 'plotly': ['https://cdn.plot.ly/plotly-latest.min']},});if(!window._Plotly) {require(['plotly'],function(plotly) {window._Plotly=plotly;});}</script>"
      ],
      "text/vnd.plotly.v1+html": [
       "<script type=\"text/javascript\">window.PlotlyConfig = {MathJaxConfig: 'local'};</script><script type=\"text/javascript\">if (window.MathJax) {MathJax.Hub.Config({SVG: {font: \"STIX-Web\"}});}</script><script>requirejs.config({paths: { 'plotly': ['https://cdn.plot.ly/plotly-latest.min']},});if(!window._Plotly) {require(['plotly'],function(plotly) {window._Plotly=plotly;});}</script>"
      ]
     },
     "metadata": {},
     "output_type": "display_data"
    }
   ],
   "source": [
    "# %matplotlib qt\n",
    "\n",
    "import pandas as pd\n",
    "import numpy as np\n",
    "import matplotlib.pyplot as plt\n",
    "import time\n",
    "import glob\n",
    "import pickle\n",
    "\n",
    "from sklearn import tree\n",
    "from sklearn import svm\n",
    "from sklearn.linear_model import LogisticRegression, SGDClassifier\n",
    "from sklearn.preprocessing import normalize\n",
    "from sklearn.ensemble import RandomForestClassifier\n",
    "\n",
    "\n",
    "from plotly.offline import download_plotlyjs, init_notebook_mode, plot, iplot\n",
    "import plotly.graph_objs as go\n",
    "from plotly import tools\n",
    "init_notebook_mode(connected=True)\n"
   ]
  },
  {
   "cell_type": "markdown",
   "metadata": {},
   "source": [
    "## Object creation"
   ]
  },
  {
   "cell_type": "code",
   "execution_count": 2,
   "metadata": {},
   "outputs": [
    {
     "data": {
      "text/html": [
       "<script type=\"text/javascript\">window.PlotlyConfig = {MathJaxConfig: 'local'};</script><script type=\"text/javascript\">if (window.MathJax) {MathJax.Hub.Config({SVG: {font: \"STIX-Web\"}});}</script><script>requirejs.config({paths: { 'plotly': ['https://cdn.plot.ly/plotly-latest.min']},});if(!window._Plotly) {require(['plotly'],function(plotly) {window._Plotly=plotly;});}</script>"
      ],
      "text/vnd.plotly.v1+html": [
       "<script type=\"text/javascript\">window.PlotlyConfig = {MathJaxConfig: 'local'};</script><script type=\"text/javascript\">if (window.MathJax) {MathJax.Hub.Config({SVG: {font: \"STIX-Web\"}});}</script><script>requirejs.config({paths: { 'plotly': ['https://cdn.plot.ly/plotly-latest.min']},});if(!window._Plotly) {require(['plotly'],function(plotly) {window._Plotly=plotly;});}</script>"
      ]
     },
     "metadata": {},
     "output_type": "display_data"
    },
    {
     "data": {
      "text/html": [
       "<script type=\"text/javascript\">window.PlotlyConfig = {MathJaxConfig: 'local'};</script><script type=\"text/javascript\">if (window.MathJax) {MathJax.Hub.Config({SVG: {font: \"STIX-Web\"}});}</script><script>requirejs.config({paths: { 'plotly': ['https://cdn.plot.ly/plotly-latest.min']},});if(!window._Plotly) {require(['plotly'],function(plotly) {window._Plotly=plotly;});}</script>"
      ],
      "text/vnd.plotly.v1+html": [
       "<script type=\"text/javascript\">window.PlotlyConfig = {MathJaxConfig: 'local'};</script><script type=\"text/javascript\">if (window.MathJax) {MathJax.Hub.Config({SVG: {font: \"STIX-Web\"}});}</script><script>requirejs.config({paths: { 'plotly': ['https://cdn.plot.ly/plotly-latest.min']},});if(!window._Plotly) {require(['plotly'],function(plotly) {window._Plotly=plotly;});}</script>"
      ]
     },
     "metadata": {},
     "output_type": "display_data"
    },
    {
     "name": "stderr",
     "output_type": "stream",
     "text": [
      "Using TensorFlow backend.\n"
     ]
    }
   ],
   "source": [
    "from datagen import DataGen\n",
    "dg=DataGen()\n",
    "\n",
    "from visualize.visualize import Visualizer\n",
    "vl=Visualizer()\n",
    "\n",
    "from mlmodel.performanceMetrics import Metrics\n",
    "met_ob = Metrics()\n",
    "\n",
    "#model selection\n",
    "from mlmodel.split import Split\n",
    "from mlmodel.performanceMetrics import Metrics\n",
    "from mlmodel.mlclassfier import MLClassifier\n",
    "from mlmodel.sequential_bootstrap import sequentialBootstrap\n",
    "from mlmodel.analysis import Analyser\n",
    "from mlmodel.validation import Validation\n",
    "\n",
    "# For ML\n",
    "split_ob = Split()\n",
    "metrics_ob = Metrics()\n",
    "model_ob = MLClassifier()\n",
    "sb_ob = sequentialBootstrap()\n",
    "an_ob = Analyser()\n",
    "val_ob = Validation()"
   ]
  },
  {
   "cell_type": "markdown",
   "metadata": {},
   "source": [
    "## Inputs"
   ]
  },
  {
   "cell_type": "code",
   "execution_count": 3,
   "metadata": {},
   "outputs": [],
   "source": [
    "folder_name='data/historical_price_data/BTCUSDT'\n",
    "bar_type='time'             #type of bars possible_values: dollar,time,ticks,volume\n",
    "threshold=300               #threshold for the given type of bar\n",
    "\n",
    "#normalization\n",
    "before=True                #flag that denotes normalizing before/after bars creation\n",
    "normalize=True             #flag that specifies whether normalization should be done\n",
    "norm_method='multiply'     #method for nomalization include 'multiply','min_max'\n",
    "norm_val=100               #threshold for the above mentioned method\n",
    "\n",
    "#split\n",
    "split=0.7 \n",
    "\n",
    "\n",
    "# Labels\n",
    "volatility_threshold=20    #threshold in bars for volatility which is standard deviation of returns\n",
    "sampling=False             #flag to control downsampling\n",
    "v_bars_duration=20           #threshold in bars for vertical_bars which denotes a dataframe in triple-barrier method\n",
    "barrier_conf=[2,4]          #stop loss and profit taking limits [0]denotes stop loss and [1]denotes profit taking\n",
    "min_return=0                #minimum values for return in triple-barrier method\n",
    "risk=0                      #risk for calculating sharp_ration\n",
    "sign_label=True             #flag to determine labels of vertical bars t1b\n",
    "\n",
    "# Features\n",
    "sma_period = [5, 10, 20, 30] # [10, 15, 20]\n",
    "ema_period = [10, 20] # [10, 15, 20]\n",
    "BB_period  = [20]\n",
    "rsi_period = [15]\n",
    "williamsr_period = [15]\n",
    "roc_period = [15]\n",
    "adl_period = [15]\n",
    "vpt_period = [0] # 0:  period is not required\n",
    "emv_period = [0] # 0:  period is not required\n",
    "\n",
    "feature_list = ['sma',      'ema',    'BB',       'rsi',     'williamsr',        'roc', \n",
    "                'adl',     'vpt',   'emv']   #feature list \n",
    "period_all =[sma_period, ema_period, BB_period, rsi_period, williamsr_period, roc_period, \n",
    "             adl_period, vpt_period, emv_period ]  # feature list period (change this if feature_list_changed)\n",
    "\n"
   ]
  },
  {
   "cell_type": "markdown",
   "metadata": {},
   "source": [
    "## Data Generator"
   ]
  },
  {
   "cell_type": "code",
   "execution_count": 4,
   "metadata": {},
   "outputs": [
    {
     "name": "stdout",
     "output_type": "stream",
     "text": [
      "[Errno 2] No such file or directory: \"saved_runs/features_USDT_True_True_100_multiply_['sma', 'ema', 'BB', 'rsi', 'williamsr', 'roc', 'adl', 'vpt', 'emv']_[[5, 10, 20, 30], [10, 20], [20], [15], [15], [15], [15], [0], [0]]\"\n"
     ]
    },
    {
     "name": "stderr",
     "output_type": "stream",
     "text": [
      "/home/sag/CanisLeptons/cleaned/v1/feature/featureExtraction.py:925: RuntimeWarning:\n",
      "\n",
      "invalid value encountered in double_scalars\n",
      "\n"
     ]
    },
    {
     "name": "stdout",
     "output_type": "stream",
     "text": [
      "Labels:  -1.0    28143\n",
      " 1.0    16019\n",
      " 0.0    12291\n",
      "Name: label, dtype: int64\n"
     ]
    }
   ],
   "source": [
    "raw_data,labels,labels_features,train,test=dg.create_data(folder_name,feature_list,period_all,before,normalize,norm_val,norm_method,bar_type,threshold,sampling,volatility_threshold,v_bars_duration,barrier_conf,min_return,risk,sign_label)"
   ]
  },
  {
   "cell_type": "code",
   "execution_count": 5,
   "metadata": {},
   "outputs": [
    {
     "data": {
      "text/html": [
       "<div>\n",
       "<style scoped>\n",
       "    .dataframe tbody tr th:only-of-type {\n",
       "        vertical-align: middle;\n",
       "    }\n",
       "\n",
       "    .dataframe tbody tr th {\n",
       "        vertical-align: top;\n",
       "    }\n",
       "\n",
       "    .dataframe thead th {\n",
       "        text-align: right;\n",
       "    }\n",
       "</style>\n",
       "<table border=\"1\" class=\"dataframe\">\n",
       "  <thead>\n",
       "    <tr style=\"text-align: right;\">\n",
       "      <th></th>\n",
       "      <th>close</th>\n",
       "      <th>sma_5</th>\n",
       "      <th>sma_10</th>\n",
       "      <th>sma_20</th>\n",
       "      <th>sma_30</th>\n",
       "      <th>ema_10</th>\n",
       "      <th>ema_20</th>\n",
       "      <th>BB_20</th>\n",
       "      <th>rsi_15</th>\n",
       "      <th>williamsr_15</th>\n",
       "      <th>roc_15</th>\n",
       "      <th>adl_15</th>\n",
       "      <th>vpt_0</th>\n",
       "      <th>emv_0</th>\n",
       "      <th>label</th>\n",
       "      <th>date</th>\n",
       "    </tr>\n",
       "  </thead>\n",
       "  <tbody>\n",
       "    <tr>\n",
       "      <th>0</th>\n",
       "      <td>50.212924</td>\n",
       "      <td>50.319825</td>\n",
       "      <td>50.259665</td>\n",
       "      <td>50.248472</td>\n",
       "      <td>50.105607</td>\n",
       "      <td>50.272110</td>\n",
       "      <td>50.200654</td>\n",
       "      <td>50.526226</td>\n",
       "      <td>53.533637</td>\n",
       "      <td>-47.383022</td>\n",
       "      <td>-0.207870</td>\n",
       "      <td>1150.155413</td>\n",
       "      <td>-0.002854</td>\n",
       "      <td>317055.927862</td>\n",
       "      <td>-1.0</td>\n",
       "      <td>2017-08-17 06:25:00</td>\n",
       "    </tr>\n",
       "    <tr>\n",
       "      <th>1</th>\n",
       "      <td>50.315539</td>\n",
       "      <td>50.323180</td>\n",
       "      <td>50.292814</td>\n",
       "      <td>50.252100</td>\n",
       "      <td>50.128261</td>\n",
       "      <td>50.280006</td>\n",
       "      <td>50.211596</td>\n",
       "      <td>50.531443</td>\n",
       "      <td>44.930155</td>\n",
       "      <td>-0.000000</td>\n",
       "      <td>-0.003935</td>\n",
       "      <td>1310.858145</td>\n",
       "      <td>0.004444</td>\n",
       "      <td>317230.335547</td>\n",
       "      <td>-1.0</td>\n",
       "      <td>2017-08-17 06:30:00</td>\n",
       "    </tr>\n",
       "    <tr>\n",
       "      <th>2</th>\n",
       "      <td>50.613950</td>\n",
       "      <td>50.359171</td>\n",
       "      <td>50.349200</td>\n",
       "      <td>50.273427</td>\n",
       "      <td>50.160863</td>\n",
       "      <td>50.340723</td>\n",
       "      <td>50.249915</td>\n",
       "      <td>50.594054</td>\n",
       "      <td>49.912560</td>\n",
       "      <td>-0.000000</td>\n",
       "      <td>0.589120</td>\n",
       "      <td>1468.230610</td>\n",
       "      <td>0.049614</td>\n",
       "      <td>317426.197829</td>\n",
       "      <td>-1.0</td>\n",
       "      <td>2017-08-17 06:35:00</td>\n",
       "    </tr>\n",
       "    <tr>\n",
       "      <th>3</th>\n",
       "      <td>50.613950</td>\n",
       "      <td>50.395162</td>\n",
       "      <td>50.384294</td>\n",
       "      <td>50.297386</td>\n",
       "      <td>50.193464</td>\n",
       "      <td>50.390400</td>\n",
       "      <td>50.284585</td>\n",
       "      <td>50.644875</td>\n",
       "      <td>58.743536</td>\n",
       "      <td>-26.412819</td>\n",
       "      <td>0.589120</td>\n",
       "      <td>1350.032713</td>\n",
       "      <td>0.000000</td>\n",
       "      <td>317426.197829</td>\n",
       "      <td>-1.0</td>\n",
       "      <td>2017-08-17 06:40:00</td>\n",
       "    </tr>\n",
       "    <tr>\n",
       "      <th>4</th>\n",
       "      <td>50.435392</td>\n",
       "      <td>50.438351</td>\n",
       "      <td>50.401533</td>\n",
       "      <td>50.298219</td>\n",
       "      <td>50.220114</td>\n",
       "      <td>50.398581</td>\n",
       "      <td>50.298948</td>\n",
       "      <td>50.647010</td>\n",
       "      <td>60.584233</td>\n",
       "      <td>-31.751358</td>\n",
       "      <td>0.902975</td>\n",
       "      <td>1205.618318</td>\n",
       "      <td>-0.000000</td>\n",
       "      <td>316191.639977</td>\n",
       "      <td>-1.0</td>\n",
       "      <td>2017-08-17 06:45:00</td>\n",
       "    </tr>\n",
       "  </tbody>\n",
       "</table>\n",
       "</div>"
      ],
      "text/plain": [
       "       close      sma_5     sma_10     sma_20     sma_30     ema_10  \\\n",
       "0  50.212924  50.319825  50.259665  50.248472  50.105607  50.272110   \n",
       "1  50.315539  50.323180  50.292814  50.252100  50.128261  50.280006   \n",
       "2  50.613950  50.359171  50.349200  50.273427  50.160863  50.340723   \n",
       "3  50.613950  50.395162  50.384294  50.297386  50.193464  50.390400   \n",
       "4  50.435392  50.438351  50.401533  50.298219  50.220114  50.398581   \n",
       "\n",
       "      ema_20      BB_20     rsi_15  williamsr_15    roc_15       adl_15  \\\n",
       "0  50.200654  50.526226  53.533637    -47.383022 -0.207870  1150.155413   \n",
       "1  50.211596  50.531443  44.930155     -0.000000 -0.003935  1310.858145   \n",
       "2  50.249915  50.594054  49.912560     -0.000000  0.589120  1468.230610   \n",
       "3  50.284585  50.644875  58.743536    -26.412819  0.589120  1350.032713   \n",
       "4  50.298948  50.647010  60.584233    -31.751358  0.902975  1205.618318   \n",
       "\n",
       "      vpt_0          emv_0  label                date  \n",
       "0 -0.002854  317055.927862   -1.0 2017-08-17 06:25:00  \n",
       "1  0.004444  317230.335547   -1.0 2017-08-17 06:30:00  \n",
       "2  0.049614  317426.197829   -1.0 2017-08-17 06:35:00  \n",
       "3  0.000000  317426.197829   -1.0 2017-08-17 06:40:00  \n",
       "4 -0.000000  316191.639977   -1.0 2017-08-17 06:45:00  "
      ]
     },
     "execution_count": 5,
     "metadata": {},
     "output_type": "execute_result"
    }
   ],
   "source": [
    "labels_features.head()"
   ]
  },
  {
   "cell_type": "code",
   "execution_count": 6,
   "metadata": {},
   "outputs": [
    {
     "data": {
      "text/html": [
       "<script type=\"text/javascript\">window.PlotlyConfig = {MathJaxConfig: 'local'};</script><script type=\"text/javascript\">if (window.MathJax) {MathJax.Hub.Config({SVG: {font: \"STIX-Web\"}});}</script><script>requirejs.config({paths: { 'plotly': ['https://cdn.plot.ly/plotly-latest.min']},});if(!window._Plotly) {require(['plotly'],function(plotly) {window._Plotly=plotly;});}</script>"
      ],
      "text/vnd.plotly.v1+html": [
       "<script type=\"text/javascript\">window.PlotlyConfig = {MathJaxConfig: 'local'};</script><script type=\"text/javascript\">if (window.MathJax) {MathJax.Hub.Config({SVG: {font: \"STIX-Web\"}});}</script><script>requirejs.config({paths: { 'plotly': ['https://cdn.plot.ly/plotly-latest.min']},});if(!window._Plotly) {require(['plotly'],function(plotly) {window._Plotly=plotly;});}</script>"
      ]
     },
     "metadata": {},
     "output_type": "display_data"
    },
    {
     "name": "stdout",
     "output_type": "stream",
     "text": [
      "Labels:  -1.0    28143\n",
      " 1.0    16019\n",
      " 0.0    12291\n",
      "Name: label, dtype: int64\n"
     ]
    },
    {
     "data": {
      "text/html": [
       "<div>\n",
       "<style scoped>\n",
       "    .dataframe tbody tr th:only-of-type {\n",
       "        vertical-align: middle;\n",
       "    }\n",
       "\n",
       "    .dataframe tbody tr th {\n",
       "        vertical-align: top;\n",
       "    }\n",
       "\n",
       "    .dataframe thead th {\n",
       "        text-align: right;\n",
       "    }\n",
       "</style>\n",
       "<table border=\"1\" class=\"dataframe\">\n",
       "  <thead>\n",
       "    <tr style=\"text-align: right;\">\n",
       "      <th></th>\n",
       "      <th>close</th>\n",
       "      <th>sma_20</th>\n",
       "      <th>sma_30</th>\n",
       "      <th>ema_20</th>\n",
       "      <th>ema_30</th>\n",
       "      <th>rsi_15</th>\n",
       "      <th>williamsr_15</th>\n",
       "      <th>adl_15</th>\n",
       "      <th>vpt_0</th>\n",
       "      <th>emv_0</th>\n",
       "      <th>label</th>\n",
       "      <th>date</th>\n",
       "    </tr>\n",
       "  </thead>\n",
       "  <tbody>\n",
       "    <tr>\n",
       "      <th>0</th>\n",
       "      <td>50.212924</td>\n",
       "      <td>50.248472</td>\n",
       "      <td>50.105607</td>\n",
       "      <td>50.200654</td>\n",
       "      <td>50.123474</td>\n",
       "      <td>53.533637</td>\n",
       "      <td>-47.383022</td>\n",
       "      <td>1150.155413</td>\n",
       "      <td>-0.002854</td>\n",
       "      <td>317055.927862</td>\n",
       "      <td>-1.0</td>\n",
       "      <td>2017-08-17 06:25:00</td>\n",
       "    </tr>\n",
       "    <tr>\n",
       "      <th>1</th>\n",
       "      <td>50.315539</td>\n",
       "      <td>50.252100</td>\n",
       "      <td>50.128261</td>\n",
       "      <td>50.211596</td>\n",
       "      <td>50.135865</td>\n",
       "      <td>44.930155</td>\n",
       "      <td>-0.000000</td>\n",
       "      <td>1310.858145</td>\n",
       "      <td>0.004444</td>\n",
       "      <td>317230.335547</td>\n",
       "      <td>-1.0</td>\n",
       "      <td>2017-08-17 06:30:00</td>\n",
       "    </tr>\n",
       "    <tr>\n",
       "      <th>2</th>\n",
       "      <td>50.613950</td>\n",
       "      <td>50.273427</td>\n",
       "      <td>50.160863</td>\n",
       "      <td>50.249915</td>\n",
       "      <td>50.166709</td>\n",
       "      <td>49.912560</td>\n",
       "      <td>-0.000000</td>\n",
       "      <td>1468.230610</td>\n",
       "      <td>0.049614</td>\n",
       "      <td>317426.197829</td>\n",
       "      <td>-1.0</td>\n",
       "      <td>2017-08-17 06:35:00</td>\n",
       "    </tr>\n",
       "    <tr>\n",
       "      <th>3</th>\n",
       "      <td>50.613950</td>\n",
       "      <td>50.297386</td>\n",
       "      <td>50.193464</td>\n",
       "      <td>50.284585</td>\n",
       "      <td>50.195564</td>\n",
       "      <td>58.743536</td>\n",
       "      <td>-26.412819</td>\n",
       "      <td>1350.032713</td>\n",
       "      <td>0.000000</td>\n",
       "      <td>317426.197829</td>\n",
       "      <td>-1.0</td>\n",
       "      <td>2017-08-17 06:40:00</td>\n",
       "    </tr>\n",
       "    <tr>\n",
       "      <th>4</th>\n",
       "      <td>50.435392</td>\n",
       "      <td>50.298219</td>\n",
       "      <td>50.220114</td>\n",
       "      <td>50.298948</td>\n",
       "      <td>50.211036</td>\n",
       "      <td>60.584233</td>\n",
       "      <td>-31.751358</td>\n",
       "      <td>1205.618318</td>\n",
       "      <td>-0.000000</td>\n",
       "      <td>316191.639977</td>\n",
       "      <td>-1.0</td>\n",
       "      <td>2017-08-17 06:45:00</td>\n",
       "    </tr>\n",
       "  </tbody>\n",
       "</table>\n",
       "</div>"
      ],
      "text/plain": [
       "       close     sma_20     sma_30     ema_20     ema_30     rsi_15  \\\n",
       "0  50.212924  50.248472  50.105607  50.200654  50.123474  53.533637   \n",
       "1  50.315539  50.252100  50.128261  50.211596  50.135865  44.930155   \n",
       "2  50.613950  50.273427  50.160863  50.249915  50.166709  49.912560   \n",
       "3  50.613950  50.297386  50.193464  50.284585  50.195564  58.743536   \n",
       "4  50.435392  50.298219  50.220114  50.298948  50.211036  60.584233   \n",
       "\n",
       "   williamsr_15       adl_15     vpt_0          emv_0  label  \\\n",
       "0    -47.383022  1150.155413 -0.002854  317055.927862   -1.0   \n",
       "1     -0.000000  1310.858145  0.004444  317230.335547   -1.0   \n",
       "2     -0.000000  1468.230610  0.049614  317426.197829   -1.0   \n",
       "3    -26.412819  1350.032713  0.000000  317426.197829   -1.0   \n",
       "4    -31.751358  1205.618318 -0.000000  316191.639977   -1.0   \n",
       "\n",
       "                 date  \n",
       "0 2017-08-17 06:25:00  \n",
       "1 2017-08-17 06:30:00  \n",
       "2 2017-08-17 06:35:00  \n",
       "3 2017-08-17 06:40:00  \n",
       "4 2017-08-17 06:45:00  "
      ]
     },
     "execution_count": 6,
     "metadata": {},
     "output_type": "execute_result"
    }
   ],
   "source": [
    "## Necessary Imports\n",
    "\n",
    "# %matplotlib qt\n",
    "\n",
    "import pandas as pd\n",
    "import numpy as np\n",
    "import matplotlib.pyplot as plt\n",
    "import time\n",
    "import glob\n",
    "import pickle\n",
    "\n",
    "from sklearn import tree\n",
    "from sklearn import svm\n",
    "from sklearn.linear_model import LogisticRegression, SGDClassifier\n",
    "from sklearn.preprocessing import normalize\n",
    "from sklearn.ensemble import RandomForestClassifier\n",
    "\n",
    "\n",
    "from plotly.offline import download_plotlyjs, init_notebook_mode, plot, iplot\n",
    "import plotly.graph_objs as go\n",
    "init_notebook_mode(connected=True)\n",
    "\n",
    "\n",
    "## Object creation\n",
    "\n",
    "from datagen import DataGen\n",
    "dg=DataGen()\n",
    "\n",
    "from visualize.visualize import Visualizer\n",
    "vl=Visualizer()\n",
    "\n",
    "from mlmodel.performanceMetrics import Metrics\n",
    "met_ob = Metrics()\n",
    "\n",
    "#model selection\n",
    "from mlmodel.split import Split\n",
    "from mlmodel.performanceMetrics import Metrics\n",
    "from mlmodel.mlclassfier import MLClassifier\n",
    "from mlmodel.sequential_bootstrap import sequentialBootstrap\n",
    "from mlmodel.analysis import Analyser\n",
    "from mlmodel.validation import Validation\n",
    "\n",
    "# For ML\n",
    "split_ob = Split()\n",
    "metrics_ob = Metrics()\n",
    "model_ob = MLClassifier()\n",
    "sb_ob = sequentialBootstrap()\n",
    "an_ob = Analyser()\n",
    "val_ob = Validation()\n",
    "\n",
    "## Inputs\n",
    "\n",
    "folder_name='data/historical_price_data/BTCUSDT'\n",
    "bar_type='time'             #type of bars possible_values: dollar,time,ticks,volume\n",
    "threshold=300               #threshold for the given type of bar\n",
    "\n",
    "#normalization\n",
    "before=True                #flag that denotes normalizing before/after bars creation\n",
    "normalize=True             #flag that specifies whether normalization should be done\n",
    "norm_method='multiply'     #method for nomalization include 'multiply','min_max'\n",
    "norm_val=100               #threshold for the above mentioned method\n",
    "\n",
    "#split\n",
    "split=0.7 \n",
    "\n",
    "\n",
    "# Labels\n",
    "volatility_threshold=20    #threshold in bars for volatility which is standard deviation of returns\n",
    "sampling=False             #flag to control downsampling\n",
    "v_bars_duration=20           #threshold in bars for vertical_bars which denotes a dataframe in triple-barrier method\n",
    "barrier_conf=[2,4]          #stop loss and profit taking limits [0]denotes stop loss and [1]denotes profit taking\n",
    "min_return=0                #minimum values for return in triple-barrier method\n",
    "risk=0                      #risk for calculating sharp_ration\n",
    "sign_label=True             #flag to determine labels of vertical bars t1b\n",
    "\n",
    "# Features\n",
    "sma_period = [20,30] # [10, 15, 20]\n",
    "ema_period = [20, 30] # [10, 15, 20]\n",
    "BB_period  = []\n",
    "rsi_period = [15]\n",
    "williamsr_period = [15]\n",
    "roc_period = []\n",
    "adl_period = [15]\n",
    "vpt_period = [0] # 0:  period is not required\n",
    "emv_period = [0] # 0:  period is not required\n",
    "\n",
    "feature_list = ['sma',      'ema',    'BB',       'rsi',     'williamsr',        'roc', \n",
    "                'adl',     'vpt',   'emv']   #feature list \n",
    "period_all =[sma_period, ema_period, BB_period, rsi_period, williamsr_period, roc_period, \n",
    "             adl_period, vpt_period, emv_period ]  # feature list period (change this if feature_list_changed)\n",
    "\n",
    "\n",
    "\n",
    "## Data Generator\n",
    "\n",
    "raw_data,labels,labels_features,train,test=dg.create_data(folder_name,feature_list,period_all,before,normalize,norm_val,norm_method,bar_type,threshold,sampling,volatility_threshold,v_bars_duration,barrier_conf,min_return,risk,sign_label)\n",
    "\n",
    "labels_features.head()"
   ]
  },
  {
   "cell_type": "code",
   "execution_count": 7,
   "metadata": {},
   "outputs": [],
   "source": [
    "ml_normalize = True\n",
    "\n",
    "if ml_normalize:\n",
    "    # Normalize Data\n",
    "    mean_df = labels_features.iloc[:, :-2].mean()\n",
    "    std_df = labels_features.iloc[:, :-2].std()\n",
    "\n",
    "    train_X_unNom,train_y = dg.preprocess(train)\n",
    "    test_X_unNom ,test_y  = dg.preprocess(test)\n",
    "    \n",
    "    train_X = pd.DataFrame((train_X_unNom-mean_df)/std_df)\n",
    "    test_X  = pd.DataFrame((test_X_unNom -mean_df)/std_df)\n",
    "    train_cl, test_cl = train_X['close'],test_X['close']\n",
    "else:\n",
    "    # Un-Normalized train_X, test_X\n",
    "    train_X,train_y = dg.preprocess(train)\n",
    "    test_X ,test_y  = dg.preprocess(test)"
   ]
  },
  {
   "cell_type": "markdown",
   "metadata": {},
   "source": [
    "# ML"
   ]
  },
  {
   "cell_type": "code",
   "execution_count": 8,
   "metadata": {},
   "outputs": [
    {
     "name": "stdout",
     "output_type": "stream",
     "text": [
      "DecisionTreeClassifier(class_weight=None, criterion='gini', max_depth=None,\n",
      "            max_features=None, max_leaf_nodes=None,\n",
      "            min_impurity_decrease=0.0, min_impurity_split=None,\n",
      "            min_samples_leaf=1, min_samples_split=2,\n",
      "            min_weight_fraction_leaf=0.0, presort=False, random_state=None,\n",
      "            splitter='best')\n",
      "train_score  1.0 test_score  0.36543005671077505\n"
     ]
    }
   ],
   "source": [
    "# Check Overfitting\n",
    "clf = tree.DecisionTreeClassifier()\n",
    "print(clf)\n",
    "clf.fit(train_X,train_y)\n",
    "train_score = clf.score(train_X,train_y)\n",
    "test_score = clf.score(test_X,test_y)\n",
    "print(\"train_score \",train_score, \"test_score \", test_score)"
   ]
  },
  {
   "cell_type": "code",
   "execution_count": 9,
   "metadata": {},
   "outputs": [
    {
     "name": "stdout",
     "output_type": "stream",
     "text": [
      "{'close': 0.059388313220024136, 'sma_20': 0.04319559654104472, 'sma_30': 0.05800639727770231, 'ema_20': 0.0500893063509434, 'ema_30': 0.036641396479228726, 'rsi_15': 0.10153029172241923, 'williamsr_15': 0.32431125809475847, 'adl_15': 0.11906886507535713, 'vpt_0': 0.09807154555778073, 'emv_0': 0.10969702968074119}\n"
     ]
    }
   ],
   "source": [
    "# Check Feature Importance\n",
    "print(dict(zip(train_X.columns, clf.feature_importances_)))"
   ]
  },
  {
   "cell_type": "code",
   "execution_count": 10,
   "metadata": {},
   "outputs": [
    {
     "data": {
      "image/png": "[encoded data removed]",
      "text/plain": [
       "<Figure size 792x648 with 2 Axes>"
      ]
     },
     "metadata": {
      "needs_background": "light"
     },
     "output_type": "display_data"
    }
   ],
   "source": [
    "# Check Correlation of Labels and all features \n",
    "# Dropping Date column from labels_features\n",
    "an_ob.check_dataset_correlation(labels_features)"
   ]
  },
  {
   "cell_type": "code",
   "execution_count": 11,
   "metadata": {},
   "outputs": [],
   "source": [
    "list_cols = ['sma_20','sma_30','ema_20','ema_30']\n",
    "area = [35000,40000]\n",
    "# vl.generic_overlap_plots(labels_features,list_cols,area,\"MA compare\")"
   ]
  },
  {
   "cell_type": "code",
   "execution_count": 14,
   "metadata": {},
   "outputs": [],
   "source": [
    "drop_cols = ['vpt_0']\n",
    "train_X = train_X.drop(columns=drop_cols)\n",
    "test_X = test_X.drop(columns=drop_cols)"
   ]
  },
  {
   "cell_type": "code",
   "execution_count": 15,
   "metadata": {},
   "outputs": [
    {
     "data": {
      "text/html": [
       "<div>\n",
       "<style scoped>\n",
       "    .dataframe tbody tr th:only-of-type {\n",
       "        vertical-align: middle;\n",
       "    }\n",
       "\n",
       "    .dataframe tbody tr th {\n",
       "        vertical-align: top;\n",
       "    }\n",
       "\n",
       "    .dataframe thead th {\n",
       "        text-align: right;\n",
       "    }\n",
       "</style>\n",
       "<table border=\"1\" class=\"dataframe\">\n",
       "  <thead>\n",
       "    <tr style=\"text-align: right;\">\n",
       "      <th></th>\n",
       "      <th>close</th>\n",
       "      <th>sma_20</th>\n",
       "      <th>sma_30</th>\n",
       "      <th>ema_20</th>\n",
       "      <th>ema_30</th>\n",
       "      <th>rsi_15</th>\n",
       "      <th>williamsr_15</th>\n",
       "      <th>adl_15</th>\n",
       "      <th>emv_0</th>\n",
       "    </tr>\n",
       "  </thead>\n",
       "  <tbody>\n",
       "    <tr>\n",
       "      <th>0</th>\n",
       "      <td>-1.059139</td>\n",
       "      <td>-1.058444</td>\n",
       "      <td>-1.061470</td>\n",
       "      <td>-1.059576</td>\n",
       "      <td>-1.061261</td>\n",
       "      <td>0.119074</td>\n",
       "      <td>0.107818</td>\n",
       "      <td>-0.324332</td>\n",
       "      <td>3.404184</td>\n",
       "    </tr>\n",
       "    <tr>\n",
       "      <th>1</th>\n",
       "      <td>-1.056971</td>\n",
       "      <td>-1.058367</td>\n",
       "      <td>-1.060992</td>\n",
       "      <td>-1.059345</td>\n",
       "      <td>-1.060999</td>\n",
       "      <td>-0.347639</td>\n",
       "      <td>1.686849</td>\n",
       "      <td>-0.324269</td>\n",
       "      <td>3.406069</td>\n",
       "    </tr>\n",
       "    <tr>\n",
       "      <th>2</th>\n",
       "      <td>-1.050667</td>\n",
       "      <td>-1.057917</td>\n",
       "      <td>-1.060303</td>\n",
       "      <td>-1.058535</td>\n",
       "      <td>-1.060347</td>\n",
       "      <td>-0.077359</td>\n",
       "      <td>1.686849</td>\n",
       "      <td>-0.324208</td>\n",
       "      <td>3.408185</td>\n",
       "    </tr>\n",
       "    <tr>\n",
       "      <th>3</th>\n",
       "      <td>-1.050667</td>\n",
       "      <td>-1.057410</td>\n",
       "      <td>-1.059614</td>\n",
       "      <td>-1.057802</td>\n",
       "      <td>-1.059737</td>\n",
       "      <td>0.401696</td>\n",
       "      <td>0.806646</td>\n",
       "      <td>-0.324254</td>\n",
       "      <td>3.408185</td>\n",
       "    </tr>\n",
       "    <tr>\n",
       "      <th>4</th>\n",
       "      <td>-1.054439</td>\n",
       "      <td>-1.057393</td>\n",
       "      <td>-1.059051</td>\n",
       "      <td>-1.057499</td>\n",
       "      <td>-1.059410</td>\n",
       "      <td>0.501548</td>\n",
       "      <td>0.628741</td>\n",
       "      <td>-0.324310</td>\n",
       "      <td>3.394843</td>\n",
       "    </tr>\n",
       "  </tbody>\n",
       "</table>\n",
       "</div>"
      ],
      "text/plain": [
       "      close    sma_20    sma_30    ema_20    ema_30    rsi_15  williamsr_15  \\\n",
       "0 -1.059139 -1.058444 -1.061470 -1.059576 -1.061261  0.119074      0.107818   \n",
       "1 -1.056971 -1.058367 -1.060992 -1.059345 -1.060999 -0.347639      1.686849   \n",
       "2 -1.050667 -1.057917 -1.060303 -1.058535 -1.060347 -0.077359      1.686849   \n",
       "3 -1.050667 -1.057410 -1.059614 -1.057802 -1.059737  0.401696      0.806646   \n",
       "4 -1.054439 -1.057393 -1.059051 -1.057499 -1.059410  0.501548      0.628741   \n",
       "\n",
       "     adl_15     emv_0  \n",
       "0 -0.324332  3.404184  \n",
       "1 -0.324269  3.406069  \n",
       "2 -0.324208  3.408185  \n",
       "3 -0.324254  3.408185  \n",
       "4 -0.324310  3.394843  "
      ]
     },
     "execution_count": 15,
     "metadata": {},
     "output_type": "execute_result"
    }
   ],
   "source": [
    "train_X.head()"
   ]
  },
  {
   "cell_type": "code",
   "execution_count": 16,
   "metadata": {},
   "outputs": [
    {
     "data": {
      "text/plain": [
       "Index(['close', 'sma_20', 'sma_30', 'ema_20', 'ema_30', 'rsi_15',\n",
       "       'williamsr_15', 'adl_15', 'emv_0'],\n",
       "      dtype='object')"
      ]
     },
     "execution_count": 16,
     "metadata": {},
     "output_type": "execute_result"
    }
   ],
   "source": [
    "train_X.columns"
   ]
  },
  {
   "cell_type": "code",
   "execution_count": 21,
   "metadata": {},
   "outputs": [
    {
     "data": {
      "text/plain": [
       "-1.0    9046\n",
       " 1.0    4755\n",
       " 0.0    3127\n",
       "Name: label, dtype: int64"
      ]
     },
     "execution_count": 21,
     "metadata": {},
     "output_type": "execute_result"
    }
   ],
   "source": [
    "pd.Series(test_y).value_counts()"
   ]
  },
  {
   "cell_type": "code",
   "execution_count": 17,
   "metadata": {},
   "outputs": [
    {
     "data": {
      "text/plain": [
       "-1.0    19081\n",
       " 1.0    11256\n",
       " 0.0     9160\n",
       "Name: label, dtype: int64"
      ]
     },
     "execution_count": 17,
     "metadata": {},
     "output_type": "execute_result"
    }
   ],
   "source": [
    "pd.Series(train_y).value_counts()"
   ]
  },
  {
   "cell_type": "code",
   "execution_count": 18,
   "metadata": {},
   "outputs": [
    {
     "name": "stdout",
     "output_type": "stream",
     "text": [
      "std =  2.4978426034169185\n",
      "train: 0.6400739296655442  test: 0.6896857277882797  sr: 0.003813621825108558\n",
      "-1.0    10158\n",
      " 1.0     6727\n",
      " 0.0       43\n",
      "dtype: int64\n",
      "std =  2.497672155933092\n",
      "train: 0.7145352811605945  test: 0.6466209829867675  sr: 0.003598378662273809\n",
      "-1.0    8655\n",
      " 1.0    7966\n",
      " 0.0     307\n",
      "dtype: int64\n",
      "std =  2.482461685761687\n",
      "train: 0.8456085272299162  test: 0.5828213610586012  sr: 0.0026048432067241304\n",
      "-1.0    7397\n",
      " 1.0    7241\n",
      " 0.0    2290\n",
      "dtype: int64\n",
      "std =  2.0947677793783197\n",
      "train: 0.9486543281768236  test: 0.5573015122873346  sr: 0.00700595005784223\n",
      "-1.0    7082\n",
      " 1.0    6822\n",
      " 0.0    3024\n",
      "dtype: int64\n"
     ]
    }
   ],
   "source": [
    "from sklearn.ensemble import BaggingClassifier\n",
    "\n",
    "tl = [5,10,15,20]\n",
    "\n",
    "for i in tl:\n",
    "    clf = tree.DecisionTreeClassifier(max_depth=i)\n",
    "    bag = BaggingClassifier(base_estimator=clf)\n",
    "    bag.fit(train_X.iloc[:,1:],train_y)\n",
    "    train_score = bag.score(train_X.iloc[:,1:],train_y)\n",
    "    test_score = bag.score(test_X.iloc[:,1:],test_y)\n",
    "    pred_y = bag.predict(test_X.iloc[:,1:])\n",
    "    \n",
    "    # Close column is must for sr calc\n",
    "    sr = met_ob.sr_calc(test_X,pred_y)\n",
    "    \n",
    "    print(\"train:\", train_score, \" test:\", test_score, \" sr:\",sr )\n",
    "    print(pd.Series(pred_y).value_counts())"
   ]
  },
  {
   "cell_type": "code",
   "execution_count": 20,
   "metadata": {},
   "outputs": [
    {
     "name": "stdout",
     "output_type": "stream",
     "text": [
      "std =  2.4977838122717215\n",
      "no. estimators: 10  train: 0.7146112362964275  test: 0.6609168241965974  sr: 0.00409968949613237\n",
      "-1.0    9742\n",
      " 1.0    6940\n",
      " 0.0     246\n",
      "dtype: int64\n",
      "std =  2.494885164693634\n",
      "no. estimators: 20  train: 0.71491505683976  test: 0.6522920604914934  sr: 0.0032434829069198264\n",
      "-1.0    8760\n",
      " 1.0    7543\n",
      " 0.0     625\n",
      "dtype: int64\n",
      "std =  2.497835264298444\n",
      "no. estimators: 30  train: 0.717143074157531  test: 0.6761578449905482  sr: 0.003251025181029924\n",
      "-1.0    9328\n",
      " 1.0    7441\n",
      " 0.0     159\n",
      "dtype: int64\n",
      "std =  2.4978205622489513\n",
      "no. estimators: 40  train: 0.7195736385041902  test: 0.6747400756143668  sr: 0.0028340207094943717\n",
      "-1.0    9043\n",
      " 1.0    7636\n",
      " 0.0     249\n",
      "dtype: int64\n",
      "std =  2.49567005831347\n",
      "no. estimators: 50  train: 0.7200800060764109  test: 0.6752126654064272  sr: 0.003741041424378893\n",
      "-1.0    9533\n",
      " 1.0    7060\n",
      " 0.0     335\n",
      "dtype: int64\n",
      "std =  2.4977986324256314\n",
      "no. estimators: 100  train: 0.7177760336228068  test: 0.6763350661625709  sr: 0.002876420975233474\n",
      "-1.0    9334\n",
      " 1.0    7427\n",
      " 0.0     167\n",
      "dtype: int64\n"
     ]
    }
   ],
   "source": [
    "ne = [10,20,30,40,50,100]\n",
    "\n",
    "\n",
    "for i in ne:\n",
    "    clf = tree.DecisionTreeClassifier(max_depth=10)\n",
    "    bag = BaggingClassifier(base_estimator=clf,n_estimators=i)\n",
    "    bag.fit(train_X.iloc[:,1:],train_y)\n",
    "    train_score = bag.score(train_X.iloc[:,1:],train_y)\n",
    "    test_score = bag.score(test_X.iloc[:,1:],test_y)\n",
    "    \n",
    "    pred_y = bag.predict(test_X.iloc[:,1:])\n",
    "    sr = met_ob.sr_calc(test_X,pred_y)\n",
    "    \n",
    "    print(\"no. estimators:\",i,\" train:\", train_score, \" test:\", test_score, \" sr:\",sr )\n",
    "    print(pd.Series(pred_y).value_counts())\n",
    "    # print()"
   ]
  },
  {
   "cell_type": "code",
   "execution_count": null,
   "metadata": {},
   "outputs": [],
   "source": [
    "train_X.iloc[:,1:]"
   ]
  },
  {
   "cell_type": "code",
   "execution_count": 25,
   "metadata": {},
   "outputs": [
    {
     "name": "stdout",
     "output_type": "stream",
     "text": [
      "std =  2.4978235630302312\n",
      "no. estimators: 30  train: 0.7154720611692027  test: 0.6804111531190926  sr: 0.004084069458252516\n",
      "-1.0    9372\n",
      " 1.0    7240\n",
      " 0.0     316\n",
      "dtype: int64\n"
     ]
    }
   ],
   "source": [
    "# Analyse single model \n",
    "ne = [30]\n",
    "\n",
    "\n",
    "for i in ne:\n",
    "    clf = tree.DecisionTreeClassifier(max_depth=10)\n",
    "    bag = BaggingClassifier(base_estimator=clf,n_estimators=i)\n",
    "    bag.fit(train_X.iloc[:,1:],train_y)\n",
    "    train_score = bag.score(train_X.iloc[:,1:],train_y)\n",
    "    test_score = bag.score(test_X.iloc[:,1:],test_y)\n",
    "    \n",
    "    pred_y = bag.predict(test_X.iloc[:,1:])\n",
    "    sr = met_ob.sr_calc(test_X,pred_y)\n",
    "    \n",
    "    print(\"no. estimators:\",i,\" train:\", train_score, \" test:\", test_score, \" sr:\",sr )\n",
    "    print(pd.Series(pred_y).value_counts())\n",
    "    # print()"
   ]
  },
  {
   "cell_type": "code",
   "execution_count": 30,
   "metadata": {},
   "outputs": [
    {
     "data": {
      "text/html": [
       "<div>\n",
       "<style scoped>\n",
       "    .dataframe tbody tr th:only-of-type {\n",
       "        vertical-align: middle;\n",
       "    }\n",
       "\n",
       "    .dataframe tbody tr th {\n",
       "        vertical-align: top;\n",
       "    }\n",
       "\n",
       "    .dataframe thead th {\n",
       "        text-align: right;\n",
       "    }\n",
       "</style>\n",
       "<table border=\"1\" class=\"dataframe\">\n",
       "  <thead>\n",
       "    <tr style=\"text-align: right;\">\n",
       "      <th></th>\n",
       "      <th>close</th>\n",
       "      <th>sma_20</th>\n",
       "      <th>sma_30</th>\n",
       "      <th>ema_20</th>\n",
       "      <th>ema_30</th>\n",
       "      <th>rsi_15</th>\n",
       "      <th>williamsr_15</th>\n",
       "      <th>adl_15</th>\n",
       "      <th>emv_0</th>\n",
       "      <th>true_labels</th>\n",
       "      <th>pred_labels</th>\n",
       "    </tr>\n",
       "  </thead>\n",
       "  <tbody>\n",
       "    <tr>\n",
       "      <th>0</th>\n",
       "      <td>1.958141</td>\n",
       "      <td>1.963705</td>\n",
       "      <td>1.977542</td>\n",
       "      <td>1.956891</td>\n",
       "      <td>1.955086</td>\n",
       "      <td>-0.769581</td>\n",
       "      <td>0.229968</td>\n",
       "      <td>0.712151</td>\n",
       "      <td>-0.026734</td>\n",
       "      <td>-1.0</td>\n",
       "      <td>-1.0</td>\n",
       "    </tr>\n",
       "    <tr>\n",
       "      <th>1</th>\n",
       "      <td>1.975607</td>\n",
       "      <td>1.961638</td>\n",
       "      <td>1.977410</td>\n",
       "      <td>1.958743</td>\n",
       "      <td>1.956478</td>\n",
       "      <td>-0.470620</td>\n",
       "      <td>-0.375809</td>\n",
       "      <td>0.714850</td>\n",
       "      <td>-0.023931</td>\n",
       "      <td>-1.0</td>\n",
       "      <td>1.0</td>\n",
       "    </tr>\n",
       "    <tr>\n",
       "      <th>2</th>\n",
       "      <td>1.952482</td>\n",
       "      <td>1.957701</td>\n",
       "      <td>1.974451</td>\n",
       "      <td>1.958216</td>\n",
       "      <td>1.956287</td>\n",
       "      <td>-0.005558</td>\n",
       "      <td>-0.758175</td>\n",
       "      <td>0.710877</td>\n",
       "      <td>-0.022970</td>\n",
       "      <td>-1.0</td>\n",
       "      <td>1.0</td>\n",
       "    </tr>\n",
       "    <tr>\n",
       "      <th>3</th>\n",
       "      <td>1.937885</td>\n",
       "      <td>1.952676</td>\n",
       "      <td>1.972726</td>\n",
       "      <td>1.956349</td>\n",
       "      <td>1.955166</td>\n",
       "      <td>0.142410</td>\n",
       "      <td>-0.440912</td>\n",
       "      <td>0.711442</td>\n",
       "      <td>-0.025178</td>\n",
       "      <td>1.0</td>\n",
       "      <td>1.0</td>\n",
       "    </tr>\n",
       "    <tr>\n",
       "      <th>4</th>\n",
       "      <td>1.949996</td>\n",
       "      <td>1.950496</td>\n",
       "      <td>1.970756</td>\n",
       "      <td>1.955813</td>\n",
       "      <td>1.954899</td>\n",
       "      <td>-0.378758</td>\n",
       "      <td>-0.707124</td>\n",
       "      <td>0.714608</td>\n",
       "      <td>-0.024182</td>\n",
       "      <td>1.0</td>\n",
       "      <td>1.0</td>\n",
       "    </tr>\n",
       "  </tbody>\n",
       "</table>\n",
       "</div>"
      ],
      "text/plain": [
       "      close    sma_20    sma_30    ema_20    ema_30    rsi_15  williamsr_15  \\\n",
       "0  1.958141  1.963705  1.977542  1.956891  1.955086 -0.769581      0.229968   \n",
       "1  1.975607  1.961638  1.977410  1.958743  1.956478 -0.470620     -0.375809   \n",
       "2  1.952482  1.957701  1.974451  1.958216  1.956287 -0.005558     -0.758175   \n",
       "3  1.937885  1.952676  1.972726  1.956349  1.955166  0.142410     -0.440912   \n",
       "4  1.949996  1.950496  1.970756  1.955813  1.954899 -0.378758     -0.707124   \n",
       "\n",
       "     adl_15     emv_0  true_labels  pred_labels  \n",
       "0  0.712151 -0.026734         -1.0         -1.0  \n",
       "1  0.714850 -0.023931         -1.0          1.0  \n",
       "2  0.710877 -0.022970         -1.0          1.0  \n",
       "3  0.711442 -0.025178          1.0          1.0  \n",
       "4  0.714608 -0.024182          1.0          1.0  "
      ]
     },
     "execution_count": 30,
     "metadata": {},
     "output_type": "execute_result"
    }
   ],
   "source": [
    "graph_df = test_X.copy(deep=True)\n",
    "graph_df['true_labels'] = pd.Series(test_y)\n",
    "graph_df['pred_labels'] = pd.Series(pred_y)\n",
    "graph_df.head()"
   ]
  },
  {
   "cell_type": "code",
   "execution_count": 38,
   "metadata": {},
   "outputs": [
    {
     "name": "stdout",
     "output_type": "stream",
     "text": [
      "This is the format of your plot grid:\n",
      "[ (1,1) x1,y1 ]  [ (1,2) x2,y2 ]  [ (1,3) x3,y3 ]\n",
      "[ (2,1) x1,y4 ]  [ (2,2) x2,y5 ]  [ (2,3) x3,y6 ]\n",
      "\n",
      "1 1 sma_20\n",
      "1 2 true_labels\n",
      "1 3 sma_30\n",
      "2 1 rsi_15\n",
      "2 2 pred_labels\n",
      "2 3 williamsr_15\n"
     ]
    },
    {
     "data": {
      "text/plain": [
       "'file:///home/sag/CanisLeptons/cleaned/v1/config-1.5.html'"
      ]
     },
     "execution_count": 38,
     "metadata": {},
     "output_type": "execute_result"
    }
   ],
   "source": [
    "# not using close for train it is only for visualisation purpose\n",
    "list_cols = ['sma_20','true_labels','sma_30','rsi_15','pred_labels','williamsr_15']\n",
    "vl.generic_plot(graph_df,area=[8200,8300],list_cols=list_cols,rc=[2,3],plot_name='config-1.5')"
   ]
  },
  {
   "cell_type": "code",
   "execution_count": 42,
   "metadata": {},
   "outputs": [
    {
     "name": "stdout",
     "output_type": "stream",
     "text": [
      "sma_20\n",
      "close\n",
      "true_labels\n",
      "pred_labels\n"
     ]
    },
    {
     "data": {
      "text/plain": [
       "'file:///home/sag/CanisLeptons/cleaned/v1/Overlap-Plot.html'"
      ]
     },
     "execution_count": 42,
     "metadata": {},
     "output_type": "execute_result"
    }
   ],
   "source": [
    "list_cols = ['sma_20','close','true_labels','pred_labels']\n",
    "vl.generic_overlap_plots(graph_df,list_cols,area=[8144,8206])"
   ]
  }
 ],
 "metadata": {
  "kernelspec": {
   "display_name": "Python 3",
   "language": "python",
   "name": "python3"
  },
  "language_info": {
   "codemirror_mode": {
    "name": "ipython",
    "version": 3
   },
   "file_extension": ".py",
   "mimetype": "text/x-python",
   "name": "python",
   "nbconvert_exporter": "python",
   "pygments_lexer": "ipython3",
   "version": "3.6.5"
  },
  "varInspector": {
   "cols": {
    "lenName": 16,
    "lenType": 16,
    "lenVar": 40
   },
   "kernels_config": {
    "python": {
     "delete_cmd_postfix": "",
     "delete_cmd_prefix": "del ",
     "library": "var_list.py",
     "varRefreshCmd": "print(var_dic_list())"
    },
    "r": {
     "delete_cmd_postfix": ") ",
     "delete_cmd_prefix": "rm(",
     "library": "var_list.r",
     "varRefreshCmd": "cat(var_dic_list()) "
    }
   },
   "types_to_exclude": [
    "module",
    "function",
    "builtin_function_or_method",
    "instance",
    "_Feature"
   ],
   "window_display": false
  }
 },
 "nbformat": 4,
 "nbformat_minor": 2
}
