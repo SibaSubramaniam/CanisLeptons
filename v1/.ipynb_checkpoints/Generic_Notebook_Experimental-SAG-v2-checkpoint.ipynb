{
 "cells": [
  {
   "cell_type": "markdown",
   "metadata": {},
   "source": [
    "## Necessary Imports"
   ]
  },
  {
   "cell_type": "code",
   "execution_count": 1,
   "metadata": {},
   "outputs": [
    {
     "data": {
      "text/html": [
       "<script type=\"text/javascript\">window.PlotlyConfig = {MathJaxConfig: 'local'};</script><script type=\"text/javascript\">if (window.MathJax) {MathJax.Hub.Config({SVG: {font: \"STIX-Web\"}});}</script><script>requirejs.config({paths: { 'plotly': ['https://cdn.plot.ly/plotly-latest.min']},});if(!window._Plotly) {require(['plotly'],function(plotly) {window._Plotly=plotly;});}</script>"
      ],
      "text/vnd.plotly.v1+html": [
       "<script type=\"text/javascript\">window.PlotlyConfig = {MathJaxConfig: 'local'};</script><script type=\"text/javascript\">if (window.MathJax) {MathJax.Hub.Config({SVG: {font: \"STIX-Web\"}});}</script><script>requirejs.config({paths: { 'plotly': ['https://cdn.plot.ly/plotly-latest.min']},});if(!window._Plotly) {require(['plotly'],function(plotly) {window._Plotly=plotly;});}</script>"
      ]
     },
     "metadata": {},
     "output_type": "display_data"
    }
   ],
   "source": [
    "%matplotlib qt\n",
    "\n",
    "import pandas as pd\n",
    "import numpy as np\n",
    "import matplotlib.pyplot as plt\n",
    "import time\n",
    "import glob\n",
    "import pickle\n",
    "\n",
    "from sklearn import tree\n",
    "from sklearn import svm\n",
    "from sklearn.linear_model import LogisticRegression, SGDClassifier\n",
    "from sklearn.preprocessing import normalize\n",
    "from sklearn.ensemble import RandomForestClassifier\n",
    "from sklearn.ensemble import BaggingClassifier\n",
    "\n",
    "\n",
    "\n",
    "from plotly.offline import download_plotlyjs, init_notebook_mode, plot, iplot\n",
    "import plotly.graph_objs as go\n",
    "from plotly import tools\n",
    "init_notebook_mode(connected=True)\n"
   ]
  },
  {
   "cell_type": "markdown",
   "metadata": {},
   "source": [
    "## Object creation"
   ]
  },
  {
   "cell_type": "code",
   "execution_count": 2,
   "metadata": {},
   "outputs": [
    {
     "data": {
      "text/html": [
       "<script type=\"text/javascript\">window.PlotlyConfig = {MathJaxConfig: 'local'};</script><script type=\"text/javascript\">if (window.MathJax) {MathJax.Hub.Config({SVG: {font: \"STIX-Web\"}});}</script><script>requirejs.config({paths: { 'plotly': ['https://cdn.plot.ly/plotly-latest.min']},});if(!window._Plotly) {require(['plotly'],function(plotly) {window._Plotly=plotly;});}</script>"
      ],
      "text/vnd.plotly.v1+html": [
       "<script type=\"text/javascript\">window.PlotlyConfig = {MathJaxConfig: 'local'};</script><script type=\"text/javascript\">if (window.MathJax) {MathJax.Hub.Config({SVG: {font: \"STIX-Web\"}});}</script><script>requirejs.config({paths: { 'plotly': ['https://cdn.plot.ly/plotly-latest.min']},});if(!window._Plotly) {require(['plotly'],function(plotly) {window._Plotly=plotly;});}</script>"
      ]
     },
     "metadata": {},
     "output_type": "display_data"
    },
    {
     "data": {
      "text/html": [
       "<script type=\"text/javascript\">window.PlotlyConfig = {MathJaxConfig: 'local'};</script><script type=\"text/javascript\">if (window.MathJax) {MathJax.Hub.Config({SVG: {font: \"STIX-Web\"}});}</script><script>requirejs.config({paths: { 'plotly': ['https://cdn.plot.ly/plotly-latest.min']},});if(!window._Plotly) {require(['plotly'],function(plotly) {window._Plotly=plotly;});}</script>"
      ],
      "text/vnd.plotly.v1+html": [
       "<script type=\"text/javascript\">window.PlotlyConfig = {MathJaxConfig: 'local'};</script><script type=\"text/javascript\">if (window.MathJax) {MathJax.Hub.Config({SVG: {font: \"STIX-Web\"}});}</script><script>requirejs.config({paths: { 'plotly': ['https://cdn.plot.ly/plotly-latest.min']},});if(!window._Plotly) {require(['plotly'],function(plotly) {window._Plotly=plotly;});}</script>"
      ]
     },
     "metadata": {},
     "output_type": "display_data"
    },
    {
     "name": "stderr",
     "output_type": "stream",
     "text": [
      "Using TensorFlow backend.\n"
     ]
    }
   ],
   "source": [
    "from datagen import DataGen\n",
    "dg=DataGen()\n",
    "\n",
    "from visualize.visualize import Visualizer\n",
    "vl=Visualizer()\n",
    "\n",
    "from mlmodel.performanceMetrics import Metrics\n",
    "met_ob = Metrics()\n",
    "\n",
    "#model selection\n",
    "from mlmodel.split import Split\n",
    "from mlmodel.performanceMetrics import Metrics\n",
    "from mlmodel.mlclassfier import MLClassifier\n",
    "from mlmodel.sequential_bootstrap import sequentialBootstrap\n",
    "from mlmodel.analysis import Analyser\n",
    "from mlmodel.validation import Validation\n",
    "\n",
    "# For ML\n",
    "split_ob = Split()\n",
    "metrics_ob = Metrics()\n",
    "model_ob = MLClassifier()\n",
    "sb_ob = sequentialBootstrap()\n",
    "an_ob = Analyser()\n",
    "val_ob = Validation()"
   ]
  },
  {
   "cell_type": "markdown",
   "metadata": {},
   "source": [
    "## Inputs"
   ]
  },
  {
   "cell_type": "markdown",
   "metadata": {},
   "source": [
    "## Data Generator"
   ]
  },
  {
   "cell_type": "code",
   "execution_count": 3,
   "metadata": {},
   "outputs": [
    {
     "data": {
      "text/html": [
       "<script type=\"text/javascript\">window.PlotlyConfig = {MathJaxConfig: 'local'};</script><script type=\"text/javascript\">if (window.MathJax) {MathJax.Hub.Config({SVG: {font: \"STIX-Web\"}});}</script><script>requirejs.config({paths: { 'plotly': ['https://cdn.plot.ly/plotly-latest.min']},});if(!window._Plotly) {require(['plotly'],function(plotly) {window._Plotly=plotly;});}</script>"
      ],
      "text/vnd.plotly.v1+html": [
       "<script type=\"text/javascript\">window.PlotlyConfig = {MathJaxConfig: 'local'};</script><script type=\"text/javascript\">if (window.MathJax) {MathJax.Hub.Config({SVG: {font: \"STIX-Web\"}});}</script><script>requirejs.config({paths: { 'plotly': ['https://cdn.plot.ly/plotly-latest.min']},});if(!window._Plotly) {require(['plotly'],function(plotly) {window._Plotly=plotly;});}</script>"
      ]
     },
     "metadata": {},
     "output_type": "display_data"
    },
    {
     "name": "stdout",
     "output_type": "stream",
     "text": [
      "Labels:  -1.0    28143\n",
      " 1.0    16019\n",
      " 0.0    12291\n",
      "Name: label, dtype: int64\n"
     ]
    },
    {
     "data": {
      "text/html": [
       "<div>\n",
       "<style scoped>\n",
       "    .dataframe tbody tr th:only-of-type {\n",
       "        vertical-align: middle;\n",
       "    }\n",
       "\n",
       "    .dataframe tbody tr th {\n",
       "        vertical-align: top;\n",
       "    }\n",
       "\n",
       "    .dataframe thead th {\n",
       "        text-align: right;\n",
       "    }\n",
       "</style>\n",
       "<table border=\"1\" class=\"dataframe\">\n",
       "  <thead>\n",
       "    <tr style=\"text-align: right;\">\n",
       "      <th></th>\n",
       "      <th>close</th>\n",
       "      <th>sma_15</th>\n",
       "      <th>sma_20</th>\n",
       "      <th>sma_30</th>\n",
       "      <th>ema_15</th>\n",
       "      <th>ema_20</th>\n",
       "      <th>ema_30</th>\n",
       "      <th>label</th>\n",
       "      <th>date</th>\n",
       "    </tr>\n",
       "  </thead>\n",
       "  <tbody>\n",
       "    <tr>\n",
       "      <th>0</th>\n",
       "      <td>50.212924</td>\n",
       "      <td>50.256718</td>\n",
       "      <td>50.248472</td>\n",
       "      <td>50.105607</td>\n",
       "      <td>50.239862</td>\n",
       "      <td>50.200654</td>\n",
       "      <td>50.123474</td>\n",
       "      <td>-1.0</td>\n",
       "      <td>2017-08-17 06:25:00</td>\n",
       "    </tr>\n",
       "    <tr>\n",
       "      <th>1</th>\n",
       "      <td>50.315539</td>\n",
       "      <td>50.256586</td>\n",
       "      <td>50.252100</td>\n",
       "      <td>50.128261</td>\n",
       "      <td>50.249321</td>\n",
       "      <td>50.211596</td>\n",
       "      <td>50.135865</td>\n",
       "      <td>-1.0</td>\n",
       "      <td>2017-08-17 06:30:00</td>\n",
       "    </tr>\n",
       "    <tr>\n",
       "      <th>2</th>\n",
       "      <td>50.613950</td>\n",
       "      <td>50.276349</td>\n",
       "      <td>50.273427</td>\n",
       "      <td>50.160863</td>\n",
       "      <td>50.294900</td>\n",
       "      <td>50.249915</td>\n",
       "      <td>50.166709</td>\n",
       "      <td>-1.0</td>\n",
       "      <td>2017-08-17 06:35:00</td>\n",
       "    </tr>\n",
       "    <tr>\n",
       "      <th>3</th>\n",
       "      <td>50.613950</td>\n",
       "      <td>50.296111</td>\n",
       "      <td>50.297386</td>\n",
       "      <td>50.193464</td>\n",
       "      <td>50.334781</td>\n",
       "      <td>50.284585</td>\n",
       "      <td>50.195564</td>\n",
       "      <td>-1.0</td>\n",
       "      <td>2017-08-17 06:40:00</td>\n",
       "    </tr>\n",
       "    <tr>\n",
       "      <th>4</th>\n",
       "      <td>50.435392</td>\n",
       "      <td>50.303969</td>\n",
       "      <td>50.298219</td>\n",
       "      <td>50.220114</td>\n",
       "      <td>50.347357</td>\n",
       "      <td>50.298948</td>\n",
       "      <td>50.211036</td>\n",
       "      <td>-1.0</td>\n",
       "      <td>2017-08-17 06:45:00</td>\n",
       "    </tr>\n",
       "  </tbody>\n",
       "</table>\n",
       "</div>"
      ],
      "text/plain": [
       "       close     sma_15     sma_20     sma_30     ema_15     ema_20  \\\n",
       "0  50.212924  50.256718  50.248472  50.105607  50.239862  50.200654   \n",
       "1  50.315539  50.256586  50.252100  50.128261  50.249321  50.211596   \n",
       "2  50.613950  50.276349  50.273427  50.160863  50.294900  50.249915   \n",
       "3  50.613950  50.296111  50.297386  50.193464  50.334781  50.284585   \n",
       "4  50.435392  50.303969  50.298219  50.220114  50.347357  50.298948   \n",
       "\n",
       "      ema_30  label                date  \n",
       "0  50.123474   -1.0 2017-08-17 06:25:00  \n",
       "1  50.135865   -1.0 2017-08-17 06:30:00  \n",
       "2  50.166709   -1.0 2017-08-17 06:35:00  \n",
       "3  50.195564   -1.0 2017-08-17 06:40:00  \n",
       "4  50.211036   -1.0 2017-08-17 06:45:00  "
      ]
     },
     "execution_count": 3,
     "metadata": {},
     "output_type": "execute_result"
    }
   ],
   "source": [
    "## Necessary Imports\n",
    "\n",
    "# %matplotlib qt\n",
    "\n",
    "import pandas as pd\n",
    "import numpy as np\n",
    "import matplotlib.pyplot as plt\n",
    "import time\n",
    "import glob\n",
    "import pickle\n",
    "\n",
    "from sklearn import tree\n",
    "from sklearn import svm\n",
    "from sklearn.linear_model import LogisticRegression, SGDClassifier\n",
    "from sklearn.preprocessing import normalize\n",
    "from sklearn.ensemble import RandomForestClassifier\n",
    "\n",
    "\n",
    "from plotly.offline import download_plotlyjs, init_notebook_mode, plot, iplot\n",
    "import plotly.graph_objs as go\n",
    "init_notebook_mode(connected=True)\n",
    "\n",
    "\n",
    "## Object creation\n",
    "\n",
    "from datagen import DataGen\n",
    "dg=DataGen()\n",
    "\n",
    "from visualize.visualize import Visualizer\n",
    "vl=Visualizer()\n",
    "\n",
    "from mlmodel.performanceMetrics import Metrics\n",
    "met_ob = Metrics()\n",
    "\n",
    "#model selection\n",
    "from mlmodel.split import Split\n",
    "from mlmodel.performanceMetrics import Metrics\n",
    "from mlmodel.mlclassfier import MLClassifier\n",
    "from mlmodel.sequential_bootstrap import sequentialBootstrap\n",
    "from mlmodel.analysis import Analyser\n",
    "from mlmodel.validation import Validation\n",
    "\n",
    "# For ML\n",
    "split_ob = Split()\n",
    "metrics_ob = Metrics()\n",
    "model_ob = MLClassifier()\n",
    "sb_ob = sequentialBootstrap()\n",
    "an_ob = Analyser()\n",
    "val_ob = Validation()\n",
    "\n",
    "## Inputs\n",
    "\n",
    "folder_name='data/historical_price_data/BTCUSDT'\n",
    "bar_type='time'             #type of bars possible_values: dollar,time,ticks,volume\n",
    "threshold=300               #threshold for the given type of bar\n",
    "\n",
    "#normalization\n",
    "before=True                #flag that denotes normalizing before/after bars creation\n",
    "normalize=True             #flag that specifies whether normalization should be done\n",
    "norm_method='multiply'     #method for nomalization include 'multiply','min_max'\n",
    "norm_val=100               #threshold for the above mentioned method\n",
    "\n",
    "#split\n",
    "split=0.7 \n",
    "\n",
    "\n",
    "# Labels\n",
    "volatility_threshold=20    #threshold in bars for volatility which is standard deviation of returns\n",
    "sampling=False             #flag to control downsampling\n",
    "v_bars_duration=20           #threshold in bars for vertical_bars which denotes a dataframe in triple-barrier method\n",
    "barrier_conf=[2,4]          #stop loss and profit taking limits [0]denotes stop loss and [1]denotes profit taking\n",
    "min_return=0                #minimum values for return in triple-barrier method\n",
    "risk=0                      #risk for calculating sharp_ration\n",
    "sign_label=True             #flag to determine labels of vertical bars t1b\n",
    "\n",
    "# Features\n",
    "sma_period = [15, 20, 30] # [10, 15, 20]\n",
    "ema_period = [15 , 20, 30] # [10, 15, 20]\n",
    "BB_period  = []\n",
    "rsi_period = []\n",
    "williamsr_period = []\n",
    "roc_period = []\n",
    "adl_period = []\n",
    "vpt_period = [] # 0:  period is not required\n",
    "emv_period = [] # 0:  period is not required\n",
    "\n",
    "feature_list = ['sma',      'ema',    'BB',       'rsi',     'williamsr',        'roc', \n",
    "                'adl',     'vpt',   'emv']   #feature list \n",
    "period_all =[sma_period, ema_period, BB_period, rsi_period, williamsr_period, roc_period, \n",
    "             adl_period, vpt_period, emv_period ]  # feature list period (change this if feature_list_changed)\n",
    "\n",
    "\n",
    "\n",
    "## Data Generator\n",
    "\n",
    "raw_data,labels,labels_features,train,test=dg.create_data(folder_name,feature_list,period_all,before,normalize,norm_val,norm_method,bar_type,threshold,sampling,volatility_threshold,v_bars_duration,barrier_conf,min_return,risk,sign_label)\n",
    "\n",
    "labels_features.head()"
   ]
  },
  {
   "cell_type": "code",
   "execution_count": 4,
   "metadata": {},
   "outputs": [],
   "source": [
    "ml_normalize = True\n",
    "\n",
    "if ml_normalize:\n",
    "    # Normalize Data\n",
    "    mean_df = labels_features.iloc[:, :-2].mean()\n",
    "    std_df = labels_features.iloc[:, :-2].std()\n",
    "\n",
    "    train_X_unNom,train_y = dg.preprocess(train)\n",
    "    test_X_unNom ,test_y  = dg.preprocess(test)\n",
    "    \n",
    "    train_X = pd.DataFrame((train_X_unNom-mean_df)/std_df)\n",
    "    test_X  = pd.DataFrame((test_X_unNom -mean_df)/std_df)\n",
    "    train_cl, test_cl = train_X['close'],test_X['close']\n",
    "else:\n",
    "    # Un-Normalized train_X, test_X\n",
    "    train_X,train_y = dg.preprocess(train)\n",
    "    test_X ,test_y  = dg.preprocess(test)"
   ]
  },
  {
   "cell_type": "markdown",
   "metadata": {},
   "source": [
    "# ML"
   ]
  },
  {
   "cell_type": "code",
   "execution_count": 5,
   "metadata": {},
   "outputs": [],
   "source": [
    "# Check Correlation of Labels and all features \n",
    "# Dropping Date column from labels_features\n",
    "# an_ob.check_dataset_correlation(labels_features)"
   ]
  },
  {
   "cell_type": "code",
   "execution_count": 6,
   "metadata": {
    "scrolled": true
   },
   "outputs": [
    {
     "name": "stdout",
     "output_type": "stream",
     "text": [
      "Train Labels and Count\n",
      "-1.0    19082\n",
      " 1.0    11256\n",
      " 0.0     9160\n",
      "Name: label, dtype: int64\n",
      "Test Labels and Count\n",
      "-1.0    9046\n",
      " 1.0    4755\n",
      " 0.0    3127\n",
      "Name: label, dtype: int64\n",
      "*** All features Fit and predict score ***\n",
      "std =  2.2928245528680717\n",
      "Index(['sma_15', 'sma_20', 'sma_30', 'ema_15', 'ema_20', 'ema_30'], dtype='object')\n",
      "train: 0.5827130487619626  test: 0.4844045368620038  sr: 0.010833470699440429\n",
      "*** Single Feature Importance ***\n",
      "std =  2.292877179229324\n",
      "feature: sma_15  train: 0.5400526608942225  test: 0.4792060491493384  sr: 0.009193966157815705\n",
      "-1.0    13133\n",
      " 1.0     3448\n",
      " 0.0      347\n",
      "dtype: int64\n",
      "std =  2.292855969398092\n",
      "feature: sma_20  train: 0.5407362398096106  test: 0.4842273156899811  sr: 0.011324173217611568\n",
      "-1.0    13964\n",
      " 1.0     2665\n",
      " 0.0      299\n",
      "dtype: int64\n",
      "std =  2.292467128915585\n",
      "feature: sma_30  train: 0.5408628284976454  test: 0.48617674858223064  sr: 0.010873633925111766\n",
      "-1.0    13826\n",
      " 1.0     2902\n",
      " 0.0      200\n",
      "dtype: int64\n",
      "std =  2.2927784690409223\n",
      "feature: ema_15  train: 0.5429895184566307  test: 0.47099480151228734  sr: 0.010272919926923975\n",
      "-1.0    12854\n",
      " 1.0     3764\n",
      " 0.0      310\n",
      "dtype: int64\n",
      "std =  2.292852145024012\n",
      "feature: ema_20  train: 0.5391665400779786  test: 0.4822778827977316  sr: 0.010498901782075477\n",
      "-1.0    13746\n",
      " 1.0     2949\n",
      " 0.0      233\n",
      "dtype: int64\n",
      "std =  2.2927529976841163\n",
      "feature: ema_30  train: 0.5431414248822726  test: 0.48074196597353497  sr: 0.012717664772211269\n",
      "-1.0    13692\n",
      " 1.0     3019\n",
      " 0.0      217\n",
      "dtype: int64\n"
     ]
    }
   ],
   "source": [
    "# Class balancing is off\n",
    "if True:\n",
    "    clf = tree.DecisionTreeClassifier(max_depth=10)\n",
    "    bag = BaggingClassifier(base_estimator=clf,n_estimators=30)\n",
    "\n",
    "    sfi_metric_df = val_ob.SFI_custom(bag,train_X,train_y,test_X,test_y,drop_close=True,sfi_flag=True)"
   ]
  }
 ],
 "metadata": {
  "kernelspec": {
   "display_name": "Python 3",
   "language": "python",
   "name": "python3"
  },
  "language_info": {
   "codemirror_mode": {
    "name": "ipython",
    "version": 3
   },
   "file_extension": ".py",
   "mimetype": "text/x-python",
   "name": "python",
   "nbconvert_exporter": "python",
   "pygments_lexer": "ipython3",
   "version": "3.6.7"
  },
  "varInspector": {
   "cols": {
    "lenName": 16,
    "lenType": 16,
    "lenVar": 40
   },
   "kernels_config": {
    "python": {
     "delete_cmd_postfix": "",
     "delete_cmd_prefix": "del ",
     "library": "var_list.py",
     "varRefreshCmd": "print(var_dic_list())"
    },
    "r": {
     "delete_cmd_postfix": ") ",
     "delete_cmd_prefix": "rm(",
     "library": "var_list.r",
     "varRefreshCmd": "cat(var_dic_list()) "
    }
   },
   "types_to_exclude": [
    "module",
    "function",
    "builtin_function_or_method",
    "instance",
    "_Feature"
   ],
   "window_display": false
  }
 },
 "nbformat": 4,
 "nbformat_minor": 2
}
