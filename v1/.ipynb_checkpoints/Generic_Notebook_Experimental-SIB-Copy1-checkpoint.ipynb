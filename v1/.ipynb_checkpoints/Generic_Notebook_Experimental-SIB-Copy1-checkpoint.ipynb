{
 "cells": [
  {
   "cell_type": "markdown",
   "metadata": {},
   "source": [
    "## Necessary Imports"
   ]
  },
  {
   "cell_type": "code",
   "execution_count": 1,
   "metadata": {},
   "outputs": [
    {
     "data": {
      "text/html": [
       "<script type=\"text/javascript\">window.PlotlyConfig = {MathJaxConfig: 'local'};</script><script type=\"text/javascript\">if (window.MathJax) {MathJax.Hub.Config({SVG: {font: \"STIX-Web\"}});}</script><script>requirejs.config({paths: { 'plotly': ['https://cdn.plot.ly/plotly-latest.min']},});if(!window._Plotly) {require(['plotly'],function(plotly) {window._Plotly=plotly;});}</script>"
      ],
      "text/vnd.plotly.v1+html": [
       "<script type=\"text/javascript\">window.PlotlyConfig = {MathJaxConfig: 'local'};</script><script type=\"text/javascript\">if (window.MathJax) {MathJax.Hub.Config({SVG: {font: \"STIX-Web\"}});}</script><script>requirejs.config({paths: { 'plotly': ['https://cdn.plot.ly/plotly-latest.min']},});if(!window._Plotly) {require(['plotly'],function(plotly) {window._Plotly=plotly;});}</script>"
      ]
     },
     "metadata": {},
     "output_type": "display_data"
    }
   ],
   "source": [
    "%matplotlib qt\n",
    "\n",
    "import pandas as pd\n",
    "import numpy as np\n",
    "import matplotlib.pyplot as plt\n",
    "import time\n",
    "import glob\n",
    "import pickle\n",
    "\n",
    "from sklearn import tree\n",
    "from sklearn import svm\n",
    "from sklearn.linear_model import LogisticRegression, SGDClassifier\n",
    "from sklearn.preprocessing import normalize\n",
    "from sklearn.ensemble import RandomForestClassifier\n",
    "from sklearn.externals import joblib\n",
    "from sklearn.preprocessing import StandardScaler\n",
    "\n",
    "from plotly.offline import download_plotlyjs, init_notebook_mode, plot, iplot\n",
    "import plotly.graph_objs as go\n",
    "init_notebook_mode(connected=True)"
   ]
  },
  {
   "cell_type": "code",
   "execution_count": 2,
   "metadata": {},
   "outputs": [],
   "source": [
    "from mlmodel.analysis import Analyser\n",
    "from mlmodel.cross_validation import Purged_validation, HyperParameterTuning\n",
    "from mlmodel.validation import Validation"
   ]
  },
  {
   "cell_type": "markdown",
   "metadata": {},
   "source": [
    "## Object creation"
   ]
  },
  {
   "cell_type": "code",
   "execution_count": 3,
   "metadata": {},
   "outputs": [
    {
     "data": {
      "text/html": [
       "<script type=\"text/javascript\">window.PlotlyConfig = {MathJaxConfig: 'local'};</script><script type=\"text/javascript\">if (window.MathJax) {MathJax.Hub.Config({SVG: {font: \"STIX-Web\"}});}</script><script>requirejs.config({paths: { 'plotly': ['https://cdn.plot.ly/plotly-latest.min']},});if(!window._Plotly) {require(['plotly'],function(plotly) {window._Plotly=plotly;});}</script>"
      ],
      "text/vnd.plotly.v1+html": [
       "<script type=\"text/javascript\">window.PlotlyConfig = {MathJaxConfig: 'local'};</script><script type=\"text/javascript\">if (window.MathJax) {MathJax.Hub.Config({SVG: {font: \"STIX-Web\"}});}</script><script>requirejs.config({paths: { 'plotly': ['https://cdn.plot.ly/plotly-latest.min']},});if(!window._Plotly) {require(['plotly'],function(plotly) {window._Plotly=plotly;});}</script>"
      ]
     },
     "metadata": {},
     "output_type": "display_data"
    },
    {
     "data": {
      "text/html": [
       "<script type=\"text/javascript\">window.PlotlyConfig = {MathJaxConfig: 'local'};</script><script type=\"text/javascript\">if (window.MathJax) {MathJax.Hub.Config({SVG: {font: \"STIX-Web\"}});}</script><script>requirejs.config({paths: { 'plotly': ['https://cdn.plot.ly/plotly-latest.min']},});if(!window._Plotly) {require(['plotly'],function(plotly) {window._Plotly=plotly;});}</script>"
      ],
      "text/vnd.plotly.v1+html": [
       "<script type=\"text/javascript\">window.PlotlyConfig = {MathJaxConfig: 'local'};</script><script type=\"text/javascript\">if (window.MathJax) {MathJax.Hub.Config({SVG: {font: \"STIX-Web\"}});}</script><script>requirejs.config({paths: { 'plotly': ['https://cdn.plot.ly/plotly-latest.min']},});if(!window._Plotly) {require(['plotly'],function(plotly) {window._Plotly=plotly;});}</script>"
      ]
     },
     "metadata": {},
     "output_type": "display_data"
    },
    {
     "name": "stderr",
     "output_type": "stream",
     "text": [
      "Using TensorFlow backend.\n"
     ]
    }
   ],
   "source": [
    "from datagen import DataGen\n",
    "dg=DataGen()\n",
    "\n",
    "from visualize.visualize import Visualizer\n",
    "vl=Visualizer()\n",
    "\n",
    "from mlmodel.performanceMetrics import Metrics\n",
    "met_ob = Metrics()\n",
    "\n",
    "#model selection\n",
    "from mlmodel.split import Split\n",
    "from mlmodel.performanceMetrics import Metrics\n",
    "from mlmodel.mlclassfier import MLClassifier\n",
    "from mlmodel.sequential_bootstrap import sequentialBootstrap\n",
    "from mlmodel.analysis import Analyser\n",
    "from mlmodel.validation import Validation\n",
    "\n",
    "# For ML\n",
    "split_ob = Split()\n",
    "metrics_ob = Metrics()\n",
    "model_ob = MLClassifier()\n",
    "sb_ob = sequentialBootstrap()\n",
    "an_ob = Analyser()\n",
    "val_ob = Validation()\n",
    "\n",
    "val_ob = Validation()\n",
    "hpt_ob = HyperParameterTuning()\n",
    "pv_ob = Purged_validation()"
   ]
  },
  {
   "cell_type": "markdown",
   "metadata": {},
   "source": [
    "## Inputs"
   ]
  },
  {
   "cell_type": "code",
   "execution_count": 4,
   "metadata": {},
   "outputs": [],
   "source": [
    "folder_name='data/historical_price_data/BTCUSDT'\n",
    "bar_type='time'             #type of bars possible_values: dollar,time,ticks,volume\n",
    "threshold=300               #threshold for the given type of bar\n",
    "\n",
    "#normalization\n",
    "before=True                #flag that denotes normalizing before/after bars creation\n",
    "normalize=True             #flag that specifies whether normalization should be done\n",
    "norm_method='multiply'     #method for nomalization include 'multiply','min_max'\n",
    "norm_val=100               #threshold for the above mentioned method\n",
    "\n",
    "\n",
    "# Labels\n",
    "volatility_threshold=20    #threshold in bars for volatility which is standard deviation of returns\n",
    "sampling=False             #flag to control downsampling\n",
    "v_bars_duration=20           #threshold in bars for vertical_bars which denotes a dataframe in triple-barrier method\n",
    "barrier_conf=[2,4]          #stop loss and profit taking limits [0]denotes stop loss and [1]denotes profit taking\n",
    "min_return=0                #minimum values for return in triple-barrier method\n",
    "risk=0                      #risk for calculating sharp_ration\n",
    "sign_label=True             #flag to determine labels of vertical bars t1b\n",
    "\n",
    "# Features\n",
    "sma_period = [10, 20] # [10, 15, 20]\n",
    "ema_period = [10, 20] # [10, 15, 20]\n",
    "BB_period  = [15]\n",
    "rsi_period = [15]\n",
    "williamsr_period = [15]\n",
    "roc_period = [15]\n",
    "adl_period = [15]\n",
    "vpt_period = [0] # 0:  period is not required\n",
    "emv_period = [0] # 0:  period is not required\n",
    "\n",
    "feature_list = ['sma',      'ema',    'BB',       'rsi',     'williamsr',        'roc', \n",
    "                'adl',     'vpt',   'emv']   #feature list \n",
    "period_all =[sma_period, ema_period, BB_period, rsi_period, williamsr_period, roc_period, \n",
    "             adl_period, vpt_period, emv_period ]  # feature list period (change this if feature_list_changed)\n",
    "\n"
   ]
  },
  {
   "cell_type": "markdown",
   "metadata": {},
   "source": [
    "## Data Generator"
   ]
  },
  {
   "cell_type": "code",
   "execution_count": 5,
   "metadata": {},
   "outputs": [
    {
     "name": "stdout",
     "output_type": "stream",
     "text": [
      "Labels:  -1.0    28143\n",
      " 1.0    16019\n",
      " 0.0    12291\n",
      "Name: label, dtype: int64\n"
     ]
    }
   ],
   "source": [
    "raw_data,labels,labels_features,train,test=dg.create_data(folder_name,feature_list,period_all,before,normalize,norm_val,norm_method,bar_type,threshold,sampling,volatility_threshold,v_bars_duration,\n",
    "                            barrier_conf,min_return,risk,sign_label)"
   ]
  },
  {
   "cell_type": "code",
   "execution_count": null,
   "metadata": {},
   "outputs": [],
   "source": [
    "#vl.marker_plot(labels)"
   ]
  },
  {
   "cell_type": "code",
   "execution_count": 6,
   "metadata": {},
   "outputs": [],
   "source": [
    "ml_normalize = True\n",
    "\n",
    "if ml_normalize:\n",
    "    # Normalize Data\n",
    "    mean_df = labels_features.iloc[:, :-2].mean()\n",
    "    std_df = labels_features.iloc[:, :-2].std()\n",
    "\n",
    "    train_X_unNom,train_y = dg.preprocess(train)\n",
    "    test_X_unNom ,test_y  = dg.preprocess(test)\n",
    "    \n",
    "    train_X = pd.DataFrame((train_X_unNom-mean_df)/std_df)\n",
    "    test_X  = pd.DataFrame((test_X_unNom -mean_df)/std_df)\n",
    "    train_cl, test_cl = train_X['close'],test_X['close']\n",
    "else:\n",
    "    # Un-Normalized train_X, test_X\n",
    "    train_X,train_y = dg.preprocess(train)\n",
    "    test_X ,test_y  = dg.preprocess(test)"
   ]
  },
  {
   "cell_type": "code",
   "execution_count": 7,
   "metadata": {},
   "outputs": [
    {
     "name": "stdout",
     "output_type": "stream",
     "text": [
      "std =  0.0048121036644998595\n",
      "std =  0.004605328050648633\n",
      "std =  0.005261909774670239\n",
      "Train Sharpe Ratio : 0.24374659930821482\n",
      "Test Sharpe Ratio : 0.2397809183742253\n"
     ]
    }
   ],
   "source": [
    "_,sr,_,_=met_ob.sharpe_ratio(labels_features)\n",
    "_,train_sr,_,_=met_ob.sharpe_ratio(train)\n",
    "_,test_sr,_,_=met_ob.sharpe_ratio(test)\n",
    "\n",
    "print(\"Train Sharpe Ratio :\",train_sr)\n",
    "print(\"Test Sharpe Ratio :\",test_sr)"
   ]
  },
  {
   "cell_type": "code",
   "execution_count": 8,
   "metadata": {},
   "outputs": [
    {
     "name": "stdout",
     "output_type": "stream",
     "text": [
      "Total Sharpe Ratio : 0.24196861695468128\n"
     ]
    }
   ],
   "source": [
    "print(\"Total Sharpe Ratio :\",sr)"
   ]
  },
  {
   "cell_type": "code",
   "execution_count": 12,
   "metadata": {},
   "outputs": [],
   "source": [
    "X=pd.concat([train_X, test_X], ignore_index=True)\n",
    "y=pd.concat([train_y, test_y], ignore_index=True)"
   ]
  },
  {
   "cell_type": "code",
   "execution_count": 18,
   "metadata": {},
   "outputs": [],
   "source": [
    "df=X.copy(deep=True)\n",
    "df['label']=y"
   ]
  },
  {
   "cell_type": "code",
   "execution_count": 19,
   "metadata": {},
   "outputs": [
    {
     "data": {
      "text/html": [
       "<div>\n",
       "<style scoped>\n",
       "    .dataframe tbody tr th:only-of-type {\n",
       "        vertical-align: middle;\n",
       "    }\n",
       "\n",
       "    .dataframe tbody tr th {\n",
       "        vertical-align: top;\n",
       "    }\n",
       "\n",
       "    .dataframe thead th {\n",
       "        text-align: right;\n",
       "    }\n",
       "</style>\n",
       "<table border=\"1\" class=\"dataframe\">\n",
       "  <thead>\n",
       "    <tr style=\"text-align: right;\">\n",
       "      <th></th>\n",
       "      <th>close</th>\n",
       "      <th>sma_10</th>\n",
       "      <th>sma_20</th>\n",
       "      <th>ema_10</th>\n",
       "      <th>ema_20</th>\n",
       "      <th>BB_15</th>\n",
       "      <th>rsi_15</th>\n",
       "      <th>williamsr_15</th>\n",
       "      <th>roc_15</th>\n",
       "      <th>adl_15</th>\n",
       "      <th>vpt_0</th>\n",
       "      <th>emv_0</th>\n",
       "      <th>label</th>\n",
       "    </tr>\n",
       "  </thead>\n",
       "  <tbody>\n",
       "    <tr>\n",
       "      <th>0</th>\n",
       "      <td>-1.063775</td>\n",
       "      <td>-1.058465</td>\n",
       "      <td>-1.062891</td>\n",
       "      <td>-1.059808</td>\n",
       "      <td>-1.062179</td>\n",
       "      <td>-1.060097</td>\n",
       "      <td>1.521476</td>\n",
       "      <td>-1.645563</td>\n",
       "      <td>0.376723</td>\n",
       "      <td>-0.324739</td>\n",
       "      <td>-0.004463</td>\n",
       "      <td>-0.028596</td>\n",
       "      <td>-1.0</td>\n",
       "    </tr>\n",
       "    <tr>\n",
       "      <th>1</th>\n",
       "      <td>-1.063775</td>\n",
       "      <td>-1.059012</td>\n",
       "      <td>-1.062523</td>\n",
       "      <td>-1.060549</td>\n",
       "      <td>-1.062348</td>\n",
       "      <td>-1.061815</td>\n",
       "      <td>1.297496</td>\n",
       "      <td>-1.645563</td>\n",
       "      <td>-0.085834</td>\n",
       "      <td>-0.324581</td>\n",
       "      <td>-0.004312</td>\n",
       "      <td>-0.029496</td>\n",
       "      <td>1.0</td>\n",
       "    </tr>\n",
       "    <tr>\n",
       "      <th>2</th>\n",
       "      <td>-1.062380</td>\n",
       "      <td>-1.059302</td>\n",
       "      <td>-1.062085</td>\n",
       "      <td>-1.060901</td>\n",
       "      <td>-1.062368</td>\n",
       "      <td>-1.061822</td>\n",
       "      <td>0.248142</td>\n",
       "      <td>-0.387169</td>\n",
       "      <td>-0.060727</td>\n",
       "      <td>-0.324403</td>\n",
       "      <td>-0.004312</td>\n",
       "      <td>-0.029496</td>\n",
       "      <td>1.0</td>\n",
       "    </tr>\n",
       "    <tr>\n",
       "      <th>3</th>\n",
       "      <td>-1.057882</td>\n",
       "      <td>-1.059031</td>\n",
       "      <td>-1.061423</td>\n",
       "      <td>-1.060372</td>\n",
       "      <td>-1.061957</td>\n",
       "      <td>-1.061615</td>\n",
       "      <td>-0.172879</td>\n",
       "      <td>-1.095989</td>\n",
       "      <td>0.051178</td>\n",
       "      <td>-0.324225</td>\n",
       "      <td>-0.004311</td>\n",
       "      <td>2.659457</td>\n",
       "      <td>0.0</td>\n",
       "    </tr>\n",
       "    <tr>\n",
       "      <th>4</th>\n",
       "      <td>-1.057882</td>\n",
       "      <td>-1.059360</td>\n",
       "      <td>-1.060760</td>\n",
       "      <td>-1.059938</td>\n",
       "      <td>-1.061586</td>\n",
       "      <td>-1.061479</td>\n",
       "      <td>0.031677</td>\n",
       "      <td>0.286720</td>\n",
       "      <td>0.287521</td>\n",
       "      <td>-0.324400</td>\n",
       "      <td>-0.004312</td>\n",
       "      <td>2.659925</td>\n",
       "      <td>-1.0</td>\n",
       "    </tr>\n",
       "  </tbody>\n",
       "</table>\n",
       "</div>"
      ],
      "text/plain": [
       "      close    sma_10    sma_20    ema_10    ema_20     BB_15    rsi_15  \\\n",
       "0 -1.063775 -1.058465 -1.062891 -1.059808 -1.062179 -1.060097  1.521476   \n",
       "1 -1.063775 -1.059012 -1.062523 -1.060549 -1.062348 -1.061815  1.297496   \n",
       "2 -1.062380 -1.059302 -1.062085 -1.060901 -1.062368 -1.061822  0.248142   \n",
       "3 -1.057882 -1.059031 -1.061423 -1.060372 -1.061957 -1.061615 -0.172879   \n",
       "4 -1.057882 -1.059360 -1.060760 -1.059938 -1.061586 -1.061479  0.031677   \n",
       "\n",
       "   williamsr_15    roc_15    adl_15     vpt_0     emv_0  label  \n",
       "0     -1.645563  0.376723 -0.324739 -0.004463 -0.028596   -1.0  \n",
       "1     -1.645563 -0.085834 -0.324581 -0.004312 -0.029496    1.0  \n",
       "2     -0.387169 -0.060727 -0.324403 -0.004312 -0.029496    1.0  \n",
       "3     -1.095989  0.051178 -0.324225 -0.004311  2.659457    0.0  \n",
       "4      0.286720  0.287521 -0.324400 -0.004312  2.659925   -1.0  "
      ]
     },
     "execution_count": 19,
     "metadata": {},
     "output_type": "execute_result"
    }
   ],
   "source": [
    "df.head()"
   ]
  },
  {
   "cell_type": "code",
   "execution_count": 60,
   "metadata": {},
   "outputs": [
    {
     "name": "stdout",
     "output_type": "stream",
     "text": [
      "close sma_10\n",
      "close sma_20\n",
      "close ema_10\n",
      "close ema_20\n",
      "close BB_15\n",
      "close rsi_15\n",
      "close williamsr_15\n",
      "close roc_15\n",
      "close adl_15\n",
      "close vpt_0\n",
      "close emv_0\n",
      "sma_10 close\n",
      "sma_10 sma_20\n",
      "sma_10 ema_10\n",
      "sma_10 ema_20\n",
      "sma_10 BB_15\n",
      "sma_10 rsi_15\n",
      "sma_10 williamsr_15\n",
      "sma_10 roc_15\n",
      "sma_10 adl_15\n",
      "sma_10 vpt_0\n",
      "sma_10 emv_0\n",
      "sma_20 close\n",
      "sma_20 sma_10\n",
      "sma_20 ema_10\n",
      "sma_20 ema_20\n",
      "sma_20 BB_15\n",
      "sma_20 rsi_15\n",
      "sma_20 williamsr_15\n",
      "sma_20 roc_15\n",
      "sma_20 adl_15\n",
      "sma_20 vpt_0\n",
      "sma_20 emv_0\n",
      "ema_10 close\n",
      "ema_10 sma_10\n",
      "ema_10 sma_20\n",
      "ema_10 ema_20\n",
      "ema_10 BB_15\n",
      "ema_10 rsi_15\n",
      "ema_10 williamsr_15\n",
      "ema_10 roc_15\n",
      "ema_10 adl_15\n",
      "ema_10 vpt_0\n",
      "ema_10 emv_0\n",
      "ema_20 close\n",
      "ema_20 sma_10\n",
      "ema_20 sma_20\n",
      "ema_20 ema_10\n",
      "ema_20 BB_15\n",
      "ema_20 rsi_15\n",
      "ema_20 williamsr_15\n",
      "ema_20 roc_15\n",
      "ema_20 adl_15\n",
      "ema_20 vpt_0\n",
      "ema_20 emv_0\n",
      "BB_15 close\n",
      "BB_15 sma_10\n",
      "BB_15 sma_20\n",
      "BB_15 ema_10\n",
      "BB_15 ema_20\n",
      "BB_15 rsi_15\n",
      "BB_15 williamsr_15\n",
      "BB_15 roc_15\n",
      "BB_15 adl_15\n",
      "BB_15 vpt_0\n",
      "BB_15 emv_0\n",
      "rsi_15 close\n",
      "rsi_15 sma_10\n",
      "rsi_15 sma_20\n",
      "rsi_15 ema_10\n",
      "rsi_15 ema_20\n",
      "rsi_15 BB_15\n",
      "rsi_15 williamsr_15\n",
      "rsi_15 roc_15\n",
      "rsi_15 adl_15\n",
      "rsi_15 vpt_0\n",
      "rsi_15 emv_0\n",
      "williamsr_15 close\n",
      "williamsr_15 sma_10\n",
      "williamsr_15 sma_20\n",
      "williamsr_15 ema_10\n",
      "williamsr_15 ema_20\n",
      "williamsr_15 BB_15\n",
      "williamsr_15 rsi_15\n",
      "williamsr_15 roc_15\n",
      "williamsr_15 adl_15\n",
      "williamsr_15 vpt_0\n",
      "williamsr_15 emv_0\n",
      "roc_15 close\n",
      "roc_15 sma_10\n",
      "roc_15 sma_20\n",
      "roc_15 ema_10\n",
      "roc_15 ema_20\n",
      "roc_15 BB_15\n",
      "roc_15 rsi_15\n",
      "roc_15 williamsr_15\n",
      "roc_15 adl_15\n",
      "roc_15 vpt_0\n",
      "roc_15 emv_0\n",
      "adl_15 close\n",
      "adl_15 sma_10\n",
      "adl_15 sma_20\n",
      "adl_15 ema_10\n",
      "adl_15 ema_20\n",
      "adl_15 BB_15\n",
      "adl_15 rsi_15\n",
      "adl_15 williamsr_15\n",
      "adl_15 roc_15\n",
      "adl_15 vpt_0\n",
      "adl_15 emv_0\n",
      "vpt_0 close\n",
      "vpt_0 sma_10\n",
      "vpt_0 sma_20\n",
      "vpt_0 ema_10\n",
      "vpt_0 ema_20\n",
      "vpt_0 BB_15\n",
      "vpt_0 rsi_15\n",
      "vpt_0 williamsr_15\n",
      "vpt_0 roc_15\n",
      "vpt_0 adl_15\n",
      "vpt_0 emv_0\n",
      "emv_0 close\n",
      "emv_0 sma_10\n",
      "emv_0 sma_20\n",
      "emv_0 ema_10\n",
      "emv_0 ema_20\n",
      "emv_0 BB_15\n",
      "emv_0 rsi_15\n",
      "emv_0 williamsr_15\n",
      "emv_0 roc_15\n",
      "emv_0 adl_15\n",
      "emv_0 vpt_0\n"
     ]
    }
   ],
   "source": [
    "for i in df.columns[:-1]:\n",
    "    for j in df.columns[:-1]:\n",
    "        if i != j:\n",
    "            print(i,j)"
   ]
  },
  {
   "cell_type": "code",
   "execution_count": 61,
   "metadata": {},
   "outputs": [
    {
     "name": "stderr",
     "output_type": "stream",
     "text": [
      "/home/siba/.local/lib/python3.6/site-packages/ipykernel_launcher.py:8: DeprecationWarning:\n",
      "\n",
      "\n",
      ".ix is deprecated. Please use\n",
      ".loc for label based indexing or\n",
      ".iloc for positional indexing\n",
      "\n",
      "See the documentation here:\n",
      "http://pandas.pydata.org/pandas-docs/stable/indexing.html#ix-indexer-is-deprecated\n",
      "\n",
      "/home/siba/.local/lib/python3.6/site-packages/ipykernel_launcher.py:9: DeprecationWarning:\n",
      "\n",
      "\n",
      ".ix is deprecated. Please use\n",
      ".loc for label based indexing or\n",
      ".iloc for positional indexing\n",
      "\n",
      "See the documentation here:\n",
      "http://pandas.pydata.org/pandas-docs/stable/indexing.html#ix-indexer-is-deprecated\n",
      "\n",
      "/home/siba/.local/lib/python3.6/site-packages/ipykernel_launcher.py:10: DeprecationWarning:\n",
      "\n",
      "\n",
      ".ix is deprecated. Please use\n",
      ".loc for label based indexing or\n",
      ".iloc for positional indexing\n",
      "\n",
      "See the documentation here:\n",
      "http://pandas.pydata.org/pandas-docs/stable/indexing.html#ix-indexer-is-deprecated\n",
      "\n"
     ]
    }
   ],
   "source": [
    "buy=df[df.label==1.0].index\n",
    "hold=df[df.label==0.0].index\n",
    "sell=df[df.label==-1.0].index\n",
    "\n",
    "e_1='close'\n",
    "e_2='sma_10'\n",
    "plot_name='plots/'+e_1+'_vs_'+e_2+'.png' \n",
    "plt.scatter(df[e_1].ix[buy],df[e_2].ix[buy],color='g',label='buy')\n",
    "plt.scatter(df[e_1].ix[hold],df[e_2].ix[hold],color='b',label='hold')\n",
    "plt.scatter(df[e_1].ix[sell],df[e_2].ix[sell],color='r',label='sell')\n",
    "plt.legend()\n",
    "plt.savefig(plot_name)"
   ]
  }
 ],
 "metadata": {
  "kernelspec": {
   "display_name": "Python 3",
   "language": "python",
   "name": "python3"
  },
  "language_info": {
   "codemirror_mode": {
    "name": "ipython",
    "version": 3
   },
   "file_extension": ".py",
   "mimetype": "text/x-python",
   "name": "python",
   "nbconvert_exporter": "python",
   "pygments_lexer": "ipython3",
   "version": "3.6.7"
  },
  "varInspector": {
   "cols": {
    "lenName": 16,
    "lenType": 16,
    "lenVar": 40
   },
   "kernels_config": {
    "python": {
     "delete_cmd_postfix": "",
     "delete_cmd_prefix": "del ",
     "library": "var_list.py",
     "varRefreshCmd": "print(var_dic_list())"
    },
    "r": {
     "delete_cmd_postfix": ") ",
     "delete_cmd_prefix": "rm(",
     "library": "var_list.r",
     "varRefreshCmd": "cat(var_dic_list()) "
    }
   },
   "types_to_exclude": [
    "module",
    "function",
    "builtin_function_or_method",
    "instance",
    "_Feature"
   ],
   "window_display": false
  }
 },
 "nbformat": 4,
 "nbformat_minor": 2
}
