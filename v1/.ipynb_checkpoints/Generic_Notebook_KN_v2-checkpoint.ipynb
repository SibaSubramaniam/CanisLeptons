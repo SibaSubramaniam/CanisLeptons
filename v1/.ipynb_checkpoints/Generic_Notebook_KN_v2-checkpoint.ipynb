{
 "cells": [
  {
   "cell_type": "markdown",
   "metadata": {},
   "source": [
    "## Necessary Imports"
   ]
  },
  {
   "cell_type": "code",
   "execution_count": 1,
   "metadata": {},
   "outputs": [
    {
     "data": {
      "text/html": [
       "<script type=\"text/javascript\">window.PlotlyConfig = {MathJaxConfig: 'local'};</script><script type=\"text/javascript\">if (window.MathJax) {MathJax.Hub.Config({SVG: {font: \"STIX-Web\"}});}</script><script>requirejs.config({paths: { 'plotly': ['https://cdn.plot.ly/plotly-latest.min']},});if(!window._Plotly) {require(['plotly'],function(plotly) {window._Plotly=plotly;});}</script>"
      ],
      "text/vnd.plotly.v1+html": [
       "<script type=\"text/javascript\">window.PlotlyConfig = {MathJaxConfig: 'local'};</script><script type=\"text/javascript\">if (window.MathJax) {MathJax.Hub.Config({SVG: {font: \"STIX-Web\"}});}</script><script>requirejs.config({paths: { 'plotly': ['https://cdn.plot.ly/plotly-latest.min']},});if(!window._Plotly) {require(['plotly'],function(plotly) {window._Plotly=plotly;});}</script>"
      ]
     },
     "metadata": {},
     "output_type": "display_data"
    }
   ],
   "source": [
    "import pandas as pd\n",
    "import numpy as np\n",
    "import matplotlib.pyplot as plt\n",
    "import time\n",
    "import glob\n",
    "import pickle\n",
    "\n",
    "from sklearn import tree\n",
    "from sklearn import svm\n",
    "from sklearn.linear_model import LogisticRegression, SGDClassifier\n",
    "from sklearn.preprocessing import normalize\n",
    "\n",
    "\n",
    "from plotly.offline import download_plotlyjs, init_notebook_mode, plot, iplot\n",
    "import plotly.graph_objs as go\n",
    "init_notebook_mode(connected=True)"
   ]
  },
  {
   "cell_type": "markdown",
   "metadata": {},
   "source": [
    "## Inputs"
   ]
  },
  {
   "cell_type": "code",
   "execution_count": 2,
   "metadata": {},
   "outputs": [],
   "source": [
    "# Load Data\n",
    "data_folder_name='data/historical_price_data/BTCUSDT'   #the folder where data is stored\n",
    "bar_type='time'             #type of bars possible_values: dollar,time,ticks,volume\n",
    "threshold=7200              #threshold for the given type of bar\n",
    "\n",
    "# Labels\n",
    "volatility_threshold=10     #threshold in bars for volatility which is standard deviation of returns\n",
    "v_bars_duration=1           #threshold in bars for vertical_bars which denotes a dataframe in triple-barrier method\n",
    "barrier_conf=[1,1]          #stop loss and profit taking limits [0]denotes stop loss and [1]denotes profit taking\n",
    "min_return=0                #minimum values for return in triple-barrier method\n",
    "visualize_plot=False        #flag for visualizing plots\n",
    "\n",
    "# Features\n",
    "sma_period = [10, 20] # [10, 15, 20]\n",
    "ema_period = [10, 20] # [10, 15, 20]\n",
    "BB_period  = [15]\n",
    "rsi_period = [15]\n",
    "williamsr_period = [15]\n",
    "roc_period = [15]\n",
    "adl_period = [15]\n",
    "vpt_period = [0] # 0:  period is not required\n",
    "emv_period = [0] # 0:  period is not required\n",
    "\n",
    "feature_list = ['sma',      'ema',    'BB',       'rsi',     'williamsr',        'roc', \n",
    "                'adl',     'vpt',   'emv']   #feature list \n",
    "period_all =[sma_period, ema_period, BB_period, rsi_period, williamsr_period, roc_period, \n",
    "             adl_period, vpt_period, emv_period ]  # feature list period (change this if feature_list_changed)\n",
    "\n",
    "\n",
    "## Input Used\n",
    "pkl_rawData='save_runs/MAIN_df_' + data_folder_name[27:]   ## Load data pickle file name\n",
    "pkl_bars=\"save_runs/cstk_\"+bar_type+\"_\"+str(threshold) ## create bars\n",
    "\n"
   ]
  },
  {
   "cell_type": "markdown",
   "metadata": {},
   "source": [
    "## Loading Necessary Classes"
   ]
  },
  {
   "cell_type": "code",
   "execution_count": 3,
   "metadata": {},
   "outputs": [
    {
     "data": {
      "text/html": [
       "<script type=\"text/javascript\">window.PlotlyConfig = {MathJaxConfig: 'local'};</script><script type=\"text/javascript\">if (window.MathJax) {MathJax.Hub.Config({SVG: {font: \"STIX-Web\"}});}</script><script>requirejs.config({paths: { 'plotly': ['https://cdn.plot.ly/plotly-latest.min']},});if(!window._Plotly) {require(['plotly'],function(plotly) {window._Plotly=plotly;});}</script>"
      ],
      "text/vnd.plotly.v1+html": [
       "<script type=\"text/javascript\">window.PlotlyConfig = {MathJaxConfig: 'local'};</script><script type=\"text/javascript\">if (window.MathJax) {MathJax.Hub.Config({SVG: {font: \"STIX-Web\"}});}</script><script>requirejs.config({paths: { 'plotly': ['https://cdn.plot.ly/plotly-latest.min']},});if(!window._Plotly) {require(['plotly'],function(plotly) {window._Plotly=plotly;});}</script>"
      ]
     },
     "metadata": {},
     "output_type": "display_data"
    },
    {
     "name": "stderr",
     "output_type": "stream",
     "text": [
      "Using TensorFlow backend.\n"
     ]
    }
   ],
   "source": [
    "#loading and preprocessing\n",
    "from load_data.loadData import LoadData\n",
    "from preprocessing.preProcessData import PreProcessData\n",
    "from csticks.createcandleStick import createCandleStick\n",
    "\n",
    "#labeling\n",
    "from labelling.labelgenerator import LabelGenerator\n",
    "\n",
    "\n",
    "# Features\n",
    "from feature.featureExtraction import FeatureExtraction\n",
    "from feature.featureExtractionVisual import FVisual\n",
    "from feature.featureVerifyVisual import VerifyFeature\n",
    "\n",
    "#model selection\n",
    "from mlmodel.split import Split\n",
    "from mlmodel.performanceMetrics import Metrics\n",
    "from mlmodel.mlclassfier import MLClassifier\n",
    "from mlmodel.sequential_bootstrap import sequentialBootstrap\n",
    "from mlmodel.analysis import Analyser\n",
    "from mlmodel.validation import Validation\n",
    "\n",
    "############################ Object Creation ############################\n",
    "# For Labels\n",
    "ld_data = LoadData()\n",
    "pp_data = PreProcessData()\n",
    "cstk_ob = createCandleStick()\n",
    "lbl_ob=LabelGenerator()\n",
    "\n",
    "# For Features\n",
    "fe_ob = FeatureExtraction()\n",
    "fe_vis = FVisual()\n",
    "fe_verify = VerifyFeature()\n",
    "\n",
    "# For ML\n",
    "split_ob = Split()\n",
    "metrics_ob = Metrics()\n",
    "model_ob = MLClassifier()\n",
    "sb_ob = sequentialBootstrap()\n",
    "an_ob = Analyser()\n",
    "val_ob = Validation()"
   ]
  },
  {
   "cell_type": "markdown",
   "metadata": {},
   "source": [
    "## Load Data and Labels"
   ]
  },
  {
   "cell_type": "code",
   "execution_count": 4,
   "metadata": {},
   "outputs": [
    {
     "name": "stderr",
     "output_type": "stream",
     "text": [
      "2019-02-17 23:44:56.847253 100.0% triple_barrier_single done after 0.02 minutes. Remaining 0.0 minutes..\n"
     ]
    },
    {
     "name": "stdout",
     "output_type": "stream",
     "text": [
      "Labels:  -1.0    347\n",
      " 1.0    296\n",
      "Name: label, dtype: int64\n"
     ]
    }
   ],
   "source": [
    "try:\n",
    "    MAIN_df = pd.read_pickle(pkl_rawData)\n",
    "    \n",
    "except (OSError, IOError) as e:\n",
    "    print(e)\n",
    "    MAIN_df = ld_data.load_data_dir(data_folder_name)\n",
    "    MAIN_df['Price'] = MAIN_df.loc[:,['Close']]\n",
    "    MAIN_df.to_pickle(pkl_rawData)\n",
    "    \n",
    "############################## Labels ##############################\n",
    "# Create Bars\n",
    "try:\n",
    "    cstk_df = pd.read_pickle(pkl_bars)\n",
    "except (OSError, IOError) as e:\n",
    "    print(e)\n",
    "    cstk_df = cstk_ob.createBars(MAIN_df,bar_type,threshold,0)\n",
    "    cstk_df.to_pickle(pkl_bars)\n",
    "    \n",
    "# Volatility\n",
    "close=cstk_df['Price']\n",
    "ret,vol=lbl_ob.get_volatility(close,volatility_threshold)\n",
    "\n",
    "# Add Downsampling\n",
    "\n",
    "# Vertical Bars\n",
    "timestamps=close.index\n",
    "v_bars = lbl_ob.vertical_barrier(close, timestamps,v_bars_duration)\n",
    "\n",
    "# Tripple Barrier Method\n",
    "events = lbl_ob.triple_barrier(close, timestamps, sltp=barrier_conf, trgt=vol, min_ret=min_return,num_threads=16,t1=v_bars,side=None)\n",
    "\n",
    "# Labels\n",
    "labels=lbl_ob.get_labels(close,events)\n",
    "\n",
    "# \n",
    "positive=labels[labels.label==1.0]\n",
    "negative=labels[labels.label==-1.0]\n",
    "neutral=labels[labels.label==0.0]\n",
    "\n",
    "non_zero_labels=labels[labels.label!=0.0]\n",
    "print('Labels: ', non_zero_labels.label.value_counts())\n",
    "\n",
    "\n",
    "######################## Create Features ###########################\n",
    "\n"
   ]
  },
  {
   "cell_type": "code",
   "execution_count": 5,
   "metadata": {},
   "outputs": [],
   "source": [
    "frames=[close,ret]\n"
   ]
  },
  {
   "cell_type": "code",
   "execution_count": null,
   "metadata": {},
   "outputs": [],
   "source": []
  },
  {
   "cell_type": "raw",
   "metadata": {},
   "source": [
    "datalist"
   ]
  },
  {
   "cell_type": "markdown",
   "metadata": {},
   "source": [
    "# Feature Extraction"
   ]
  },
  {
   "cell_type": "code",
   "execution_count": 9,
   "metadata": {},
   "outputs": [
    {
     "data": {
      "text/html": [
       "<div>\n",
       "<style scoped>\n",
       "    .dataframe tbody tr th:only-of-type {\n",
       "        vertical-align: middle;\n",
       "    }\n",
       "\n",
       "    .dataframe tbody tr th {\n",
       "        vertical-align: top;\n",
       "    }\n",
       "\n",
       "    .dataframe thead th {\n",
       "        text-align: right;\n",
       "    }\n",
       "</style>\n",
       "<table border=\"1\" class=\"dataframe\">\n",
       "  <thead>\n",
       "    <tr style=\"text-align: right;\">\n",
       "      <th></th>\n",
       "      <th>DateStop</th>\n",
       "      <th>Open</th>\n",
       "      <th>High</th>\n",
       "      <th>Low</th>\n",
       "      <th>Close</th>\n",
       "      <th>Volume</th>\n",
       "      <th>Price</th>\n",
       "    </tr>\n",
       "    <tr>\n",
       "      <th>DateStart</th>\n",
       "      <th></th>\n",
       "      <th></th>\n",
       "      <th></th>\n",
       "      <th></th>\n",
       "      <th></th>\n",
       "      <th></th>\n",
       "      <th></th>\n",
       "    </tr>\n",
       "  </thead>\n",
       "  <tbody>\n",
       "    <tr>\n",
       "      <th>2017-08-17 04:00:00</th>\n",
       "      <td>2017-08-17 05:59:00</td>\n",
       "      <td>4261.48</td>\n",
       "      <td>4328.69</td>\n",
       "      <td>4261.32</td>\n",
       "      <td>4315.32</td>\n",
       "      <td>70.415925</td>\n",
       "      <td>4297.965417</td>\n",
       "    </tr>\n",
       "    <tr>\n",
       "      <th>2017-08-17 06:00:00</th>\n",
       "      <td>2017-08-17 07:59:00</td>\n",
       "      <td>4315.32</td>\n",
       "      <td>4349.99</td>\n",
       "      <td>4287.41</td>\n",
       "      <td>4349.99</td>\n",
       "      <td>11.672940</td>\n",
       "      <td>4319.157167</td>\n",
       "    </tr>\n",
       "    <tr>\n",
       "      <th>2017-08-17 08:00:00</th>\n",
       "      <td>2017-08-17 09:59:00</td>\n",
       "      <td>4333.32</td>\n",
       "      <td>4445.78</td>\n",
       "      <td>4333.32</td>\n",
       "      <td>4444.00</td>\n",
       "      <td>11.736430</td>\n",
       "      <td>4379.512583</td>\n",
       "    </tr>\n",
       "    <tr>\n",
       "      <th>2017-08-17 10:00:00</th>\n",
       "      <td>2017-08-17 11:59:00</td>\n",
       "      <td>4441.10</td>\n",
       "      <td>4485.39</td>\n",
       "      <td>4399.81</td>\n",
       "      <td>4427.30</td>\n",
       "      <td>51.883452</td>\n",
       "      <td>4448.646083</td>\n",
       "    </tr>\n",
       "    <tr>\n",
       "      <th>2017-08-17 12:00:00</th>\n",
       "      <td>2017-08-17 13:59:00</td>\n",
       "      <td>4427.30</td>\n",
       "      <td>4459.00</td>\n",
       "      <td>4411.00</td>\n",
       "      <td>4459.00</td>\n",
       "      <td>54.344834</td>\n",
       "      <td>4433.698333</td>\n",
       "    </tr>\n",
       "  </tbody>\n",
       "</table>\n",
       "</div>"
      ],
      "text/plain": [
       "                               DateStop     Open     High      Low    Close  \\\n",
       "DateStart                                                                     \n",
       "2017-08-17 04:00:00 2017-08-17 05:59:00  4261.48  4328.69  4261.32  4315.32   \n",
       "2017-08-17 06:00:00 2017-08-17 07:59:00  4315.32  4349.99  4287.41  4349.99   \n",
       "2017-08-17 08:00:00 2017-08-17 09:59:00  4333.32  4445.78  4333.32  4444.00   \n",
       "2017-08-17 10:00:00 2017-08-17 11:59:00  4441.10  4485.39  4399.81  4427.30   \n",
       "2017-08-17 12:00:00 2017-08-17 13:59:00  4427.30  4459.00  4411.00  4459.00   \n",
       "\n",
       "                        Volume        Price  \n",
       "DateStart                                    \n",
       "2017-08-17 04:00:00  70.415925  4297.965417  \n",
       "2017-08-17 06:00:00  11.672940  4319.157167  \n",
       "2017-08-17 08:00:00  11.736430  4379.512583  \n",
       "2017-08-17 10:00:00  51.883452  4448.646083  \n",
       "2017-08-17 12:00:00  54.344834  4433.698333  "
      ]
     },
     "execution_count": 9,
     "metadata": {},
     "output_type": "execute_result"
    }
   ],
   "source": [
    "# cstk_df['Date'] = cstk_df.index\n",
    "# cstk_df =  cstk_df.reset_index()  ############ Code only works when first column name is DateStart and also\n",
    "                                 # there is no column with name Date\n",
    "cstk_df.head()\n"
   ]
  },
  {
   "cell_type": "code",
   "execution_count": 10,
   "metadata": {},
   "outputs": [
    {
     "data": {
      "text/html": [
       "<div>\n",
       "<style scoped>\n",
       "    .dataframe tbody tr th:only-of-type {\n",
       "        vertical-align: middle;\n",
       "    }\n",
       "\n",
       "    .dataframe tbody tr th {\n",
       "        vertical-align: top;\n",
       "    }\n",
       "\n",
       "    .dataframe thead th {\n",
       "        text-align: right;\n",
       "    }\n",
       "</style>\n",
       "<table border=\"1\" class=\"dataframe\">\n",
       "  <thead>\n",
       "    <tr style=\"text-align: right;\">\n",
       "      <th></th>\n",
       "      <th>Close</th>\n",
       "      <th>sma_10</th>\n",
       "      <th>sma_20</th>\n",
       "      <th>ema_10</th>\n",
       "      <th>ema_20</th>\n",
       "      <th>BB_15</th>\n",
       "      <th>rsi_15</th>\n",
       "      <th>williamsr_15</th>\n",
       "      <th>roc_15</th>\n",
       "      <th>adl_15</th>\n",
       "      <th>vpt_0</th>\n",
       "      <th>emv_0</th>\n",
       "      <th>label</th>\n",
       "    </tr>\n",
       "    <tr>\n",
       "      <th>Date</th>\n",
       "      <th></th>\n",
       "      <th></th>\n",
       "      <th></th>\n",
       "      <th></th>\n",
       "      <th></th>\n",
       "      <th></th>\n",
       "      <th></th>\n",
       "      <th></th>\n",
       "      <th></th>\n",
       "      <th></th>\n",
       "      <th></th>\n",
       "      <th></th>\n",
       "      <th></th>\n",
       "    </tr>\n",
       "  </thead>\n",
       "  <tbody>\n",
       "    <tr>\n",
       "      <th>2017-08-18 18:00:00</th>\n",
       "      <td>4136.28</td>\n",
       "      <td>4265.386</td>\n",
       "      <td>4311.7455</td>\n",
       "      <td>4253.168958</td>\n",
       "      <td>4284.374986</td>\n",
       "      <td>4399.219663</td>\n",
       "      <td>4136.28</td>\n",
       "      <td>3975.69</td>\n",
       "      <td>4136.28</td>\n",
       "      <td>4136.28</td>\n",
       "      <td>4136.28</td>\n",
       "      <td>4136.28</td>\n",
       "      <td>-1.0</td>\n",
       "    </tr>\n",
       "    <tr>\n",
       "      <th>2017-08-18 20:00:00</th>\n",
       "      <td>3975.69</td>\n",
       "      <td>4238.596</td>\n",
       "      <td>4294.7640</td>\n",
       "      <td>4202.718238</td>\n",
       "      <td>4254.976416</td>\n",
       "      <td>4448.351482</td>\n",
       "      <td>3975.69</td>\n",
       "      <td>4108.37</td>\n",
       "      <td>3975.69</td>\n",
       "      <td>3975.69</td>\n",
       "      <td>3975.69</td>\n",
       "      <td>3975.69</td>\n",
       "      <td>1.0</td>\n",
       "    </tr>\n",
       "    <tr>\n",
       "      <th>2017-08-19 04:00:00</th>\n",
       "      <td>4077.00</td>\n",
       "      <td>4164.806</td>\n",
       "      <td>4234.3720</td>\n",
       "      <td>4154.323761</td>\n",
       "      <td>4209.354271</td>\n",
       "      <td>4419.012045</td>\n",
       "      <td>4077.00</td>\n",
       "      <td>4033.47</td>\n",
       "      <td>4077.00</td>\n",
       "      <td>4077.00</td>\n",
       "      <td>4077.00</td>\n",
       "      <td>4077.00</td>\n",
       "      <td>-1.0</td>\n",
       "    </tr>\n",
       "    <tr>\n",
       "      <th>2017-08-19 16:00:00</th>\n",
       "      <td>4027.37</td>\n",
       "      <td>4057.098</td>\n",
       "      <td>4147.8470</td>\n",
       "      <td>4055.527944</td>\n",
       "      <td>4121.437068</td>\n",
       "      <td>4291.121560</td>\n",
       "      <td>4027.37</td>\n",
       "      <td>4076.12</td>\n",
       "      <td>4027.37</td>\n",
       "      <td>4027.37</td>\n",
       "      <td>4027.37</td>\n",
       "      <td>4027.37</td>\n",
       "      <td>1.0</td>\n",
       "    </tr>\n",
       "    <tr>\n",
       "      <th>2017-08-19 22:00:00</th>\n",
       "      <td>4139.98</td>\n",
       "      <td>4046.586</td>\n",
       "      <td>4117.0535</td>\n",
       "      <td>4076.171308</td>\n",
       "      <td>4115.602353</td>\n",
       "      <td>4191.970761</td>\n",
       "      <td>4139.98</td>\n",
       "      <td>4082.53</td>\n",
       "      <td>4139.98</td>\n",
       "      <td>4139.98</td>\n",
       "      <td>4139.98</td>\n",
       "      <td>4139.98</td>\n",
       "      <td>-1.0</td>\n",
       "    </tr>\n",
       "  </tbody>\n",
       "</table>\n",
       "</div>"
      ],
      "text/plain": [
       "                       Close    sma_10     sma_20       ema_10       ema_20  \\\n",
       "Date                                                                          \n",
       "2017-08-18 18:00:00  4136.28  4265.386  4311.7455  4253.168958  4284.374986   \n",
       "2017-08-18 20:00:00  3975.69  4238.596  4294.7640  4202.718238  4254.976416   \n",
       "2017-08-19 04:00:00  4077.00  4164.806  4234.3720  4154.323761  4209.354271   \n",
       "2017-08-19 16:00:00  4027.37  4057.098  4147.8470  4055.527944  4121.437068   \n",
       "2017-08-19 22:00:00  4139.98  4046.586  4117.0535  4076.171308  4115.602353   \n",
       "\n",
       "                           BB_15   rsi_15  williamsr_15   roc_15   adl_15  \\\n",
       "Date                                                                        \n",
       "2017-08-18 18:00:00  4399.219663  4136.28       3975.69  4136.28  4136.28   \n",
       "2017-08-18 20:00:00  4448.351482  3975.69       4108.37  3975.69  3975.69   \n",
       "2017-08-19 04:00:00  4419.012045  4077.00       4033.47  4077.00  4077.00   \n",
       "2017-08-19 16:00:00  4291.121560  4027.37       4076.12  4027.37  4027.37   \n",
       "2017-08-19 22:00:00  4191.970761  4139.98       4082.53  4139.98  4139.98   \n",
       "\n",
       "                       vpt_0    emv_0  label  \n",
       "Date                                          \n",
       "2017-08-18 18:00:00  4136.28  4136.28   -1.0  \n",
       "2017-08-18 20:00:00  3975.69  3975.69    1.0  \n",
       "2017-08-19 04:00:00  4077.00  4077.00   -1.0  \n",
       "2017-08-19 16:00:00  4027.37  4027.37    1.0  \n",
       "2017-08-19 22:00:00  4139.98  4139.98   -1.0  "
      ]
     },
     "execution_count": 10,
     "metadata": {},
     "output_type": "execute_result"
    }
   ],
   "source": [
    "CRED = '\\033[91m'\n",
    "CEND = '\\033[0m'\n",
    "\n",
    "full_fdf = pd.DataFrame({'Close':cstk_df['Close']})\n",
    "full_fdf =  full_fdf.reset_index()\n",
    "full_fdf = full_fdf.rename(columns = {\"DateStart\": \"Date\"}) \n",
    "# 'Date':pd.to_datetime(cstk_df.index)\n",
    "\n",
    "for i in range(len(feature_list)):\n",
    "    for j in range(len(period_all[i])):  \n",
    "        \n",
    "       \n",
    "        if feature_list[i] == 'sma':\n",
    "            df_temp = fe_ob.simple_moving_avg(cstk_df,period_all[i][j],dropna=False)\n",
    "            \n",
    "        if feature_list[i] == 'ema':\n",
    "            df_temp = fe_ob.exp_moving_avg(cstk_df,period_all[i][j],dropna=False)\n",
    "            \n",
    "        if feature_list[i] == 'BB':\n",
    "            df_temp = fe_ob.bollinger_bands(cstk_df,period_all[i][j],dropna=False)\n",
    "            \n",
    "        if feature_list[i] == 'rsi':\n",
    "            df_temp = fe_ob.rsi(cstk_df, col='Price', period = period_all[i][j],dropna=False)\n",
    "            \n",
    "        if feature_list[i] == 'williamsr':\n",
    "            df_temp = fe_ob.willamsr(cstk_df,period = period_all[i][j])\n",
    "            \n",
    "        if feature_list[i] == 'roc':\n",
    "            df_temp = fe_ob.roc(cstk_df,col_name='Close',period = period_all[i][j], dropna=False)\n",
    "            \n",
    "        if feature_list[i] == 'adl':\n",
    "            df_temp = fe_ob.ad_oscillaor(cstk_df,period_all[i][j]) # check divisions\n",
    "        \n",
    "        if feature_list[i] == 'vpt':\n",
    "            df_temp = fe_ob.vpt(cstk_df,dropna=False)\n",
    "        \n",
    "        if feature_list[i] == 'emv':\n",
    "            df_temp = fe_ob.emv(cstk_df,dropna=False)\n",
    "        \n",
    "        # Adding Column to data frame\n",
    "        col_name_temp = feature_list[i] + '_' + str(period_all[i][j])         \n",
    "        if feature_list[i] == 'BB':\n",
    "            df_temp2 = pd.DataFrame({col_name_temp:df_temp[0]['Close']}) # Only adding BB up\n",
    "        else:\n",
    "            df_temp2 = pd.DataFrame({col_name_temp:df_temp['Close']})\n",
    "        full_fdf = pd.concat([full_fdf, df_temp2], axis=1)\n",
    "        \n",
    "    \n",
    "full_fdf=full_fdf.set_index('Date')\n",
    "\n",
    "# Adding labels to features\n",
    "a=full_fdf.index.searchsorted(non_zero_labels.index)\n",
    "df=full_fdf.iloc[a].dropna()\n",
    "df['label']=non_zero_labels.label\n",
    "df.head(5)\n",
    "\n",
    "# Saving Later\n"
   ]
  },
  {
   "cell_type": "code",
   "execution_count": null,
   "metadata": {},
   "outputs": [],
   "source": []
  },
  {
   "cell_type": "markdown",
   "metadata": {},
   "source": [
    "# ML\n",
    "\n",
    "\n"
   ]
  },
  {
   "cell_type": "code",
   "execution_count": 11,
   "metadata": {},
   "outputs": [],
   "source": [
    "# Data Preparation\n",
    "df = df.dropna()\n",
    "X = df.iloc[:, :-1]\n",
    "y = df.iloc[:, -1]\n",
    "\n",
    "X = pd.DataFrame(normalize(X))\n",
    "train_X, train_y, test_X, test_y = split_ob.train_test_split(X, y, 0.7) # split training-testing data\n",
    "\n",
    "#change v_bars to events['time']\n",
    "# indM = sb_ob.getIndMatrix(df.index, v_bars)\n",
    "# avgU = sb_ob.getAvgUniqueness(indM)\n",
    "# avgU = avgU.mean()\n",
    "\n",
    "# clf_RF, accuracy_RF = model_ob.ml_classfr(X, y, 1.0, 'RF', saveModel=True)"
   ]
  },
  {
   "cell_type": "markdown",
   "metadata": {},
   "source": [
    "# Fit Decision Tree"
   ]
  },
  {
   "cell_type": "code",
   "execution_count": 12,
   "metadata": {},
   "outputs": [
    {
     "name": "stdout",
     "output_type": "stream",
     "text": [
      "5  train:  0.9611872146118722  test:  0.8617021276595744\n",
      "10  train:  1.0  test:  0.851063829787234\n",
      "15  train:  1.0  test:  0.8670212765957447\n"
     ]
    }
   ],
   "source": [
    "tt = [5, 10, 15]\n",
    "for i in tt:\n",
    "    clf = tree.DecisionTreeClassifier(max_depth = i)\n",
    "    clf = clf.fit(train_X, train_y)\n",
    "    acc_train = clf.score(train_X, train_y)\n",
    "    acc_test = clf.score(test_X, test_y)\n",
    "    \n",
    "    print(i, ' train: ',  acc_train, ' test: ',  acc_test)\n",
    "    \n",
    "# We can clearly see from the result below that we are overfitting after depth = 10 for deecison tree.\n",
    "# So, our goal is to improve the test accuracy without overfittig and also not adding more data (for now).\n",
    "# Lets try ensemble"
   ]
  },
  {
   "cell_type": "markdown",
   "metadata": {},
   "source": [
    "# Bagging to reduce overfitting"
   ]
  },
  {
   "cell_type": "code",
   "execution_count": 13,
   "metadata": {},
   "outputs": [
    {
     "name": "stdout",
     "output_type": "stream",
     "text": [
      "10  train:  0.9931506849315068  test:  0.9042553191489362\n",
      "20  train:  1.0  test:  0.8936170212765957\n",
      "50  train:  1.0  test:  0.9042553191489362\n",
      "100  train:  1.0  test:  0.9042553191489362\n",
      "150  train:  1.0  test:  0.898936170212766\n",
      "200  train:  1.0  test:  0.898936170212766\n",
      "300  train:  1.0  test:  0.898936170212766\n",
      "400  train:  1.0  test:  0.9042553191489362\n",
      "500  train:  1.0  test:  0.9042553191489362\n"
     ]
    }
   ],
   "source": [
    "from sklearn.ensemble import RandomForestClassifier\n",
    "from sklearn.ensemble import BaggingClassifier\n",
    "\n",
    "tree_depth = 10\n",
    "num_estimator = [10, 20, 50, 100, 150, 200, 300, 400, 500]\n",
    "avgU = 1.\n",
    "\n",
    "for i in num_estimator:\n",
    "    clf = tree.DecisionTreeClassifier(max_depth = tree_depth)\n",
    "    clf = BaggingClassifier(base_estimator=clf,n_estimators=i, max_samples=avgU,max_features=1.) \n",
    "    clf_bag = clf.fit(train_X, train_y)\n",
    "    acc_train_bag = clf_bag.score(train_X, train_y)\n",
    "    acc_test_bag = clf_bag.score(test_X, test_y)\n",
    "    print(i, ' train: ',  acc_train_bag, ' test: ',  acc_test_bag)"
   ]
  },
  {
   "cell_type": "code",
   "execution_count": 14,
   "metadata": {},
   "outputs": [],
   "source": [
    "# We can see above that bagging helps us to improve the test accuracy a little bit and helps with overfitting. \n",
    "# Now what should be our next step. Let see if learning curve give us some indication about that. "
   ]
  },
  {
   "cell_type": "code",
   "execution_count": 15,
   "metadata": {},
   "outputs": [
    {
     "name": "stdout",
     "output_type": "stream",
     "text": [
      "10  train:  0.9817351598173516  test:  0.9095744680851063\n",
      "20  train:  1.0  test:  0.9042553191489362\n",
      "50  train:  1.0  test:  0.898936170212766\n",
      "100  train:  1.0  test:  0.8936170212765957\n",
      "300  train:  1.0  test:  0.8936170212765957\n"
     ]
    }
   ],
   "source": [
    "# This is just a quick experiment to test what will happen if tree_depth > 10. We can see from the results\n",
    "# that train accurancy is high, however test accuracy for above is better. SO tree_depth = 10 is good\n",
    "tree_depth = 15\n",
    "num_estimator = [10, 20, 50, 100, 300]\n",
    "avgU = 1.\n",
    "\n",
    "for i in num_estimator:\n",
    "    clf = tree.DecisionTreeClassifier(max_depth = tree_depth)\n",
    "    clf = BaggingClassifier(base_estimator=clf,n_estimators=i, max_samples=avgU,max_features=1.) \n",
    "    clf_bag = clf.fit(train_X, train_y)\n",
    "    acc_train_bag = clf_bag.score(train_X, train_y)\n",
    "    acc_test_bag = clf_bag.score(test_X, test_y)\n",
    "    print(i, ' train: ',  acc_train_bag, ' test: ',  acc_test_bag)"
   ]
  },
  {
   "cell_type": "markdown",
   "metadata": {},
   "source": [
    "# Learning Curve"
   ]
  },
  {
   "cell_type": "code",
   "execution_count": 16,
   "metadata": {},
   "outputs": [
    {
     "name": "stdout",
     "output_type": "stream",
     "text": [
      "Train score:  1.0 Test score:  0.8461538461538461\n",
      "Train score:  1.0 Test score:  0.8846153846153846\n",
      "Train score:  1.0 Test score:  0.8942307692307693\n",
      "Train score:  1.0 Test score:  0.9038461538461539\n",
      "Train score:  1.0 Test score:  0.9326923076923077\n"
     ]
    },
    {
     "data": {
      "text/plain": [
       "([1.0, 1.0, 1.0, 1.0, 1.0],\n",
       " [0.8461538461538461,\n",
       "  0.8846153846153846,\n",
       "  0.8942307692307693,\n",
       "  0.9038461538461539,\n",
       "  0.9326923076923077])"
      ]
     },
     "execution_count": 16,
     "metadata": {},
     "output_type": "execute_result"
    },
    {
     "data": {
      "image/png": "[encoded data removed]",
      "text/plain": [
       "<Figure size 432x288 with 1 Axes>"
      ]
     },
     "metadata": {
      "needs_background": "light"
     },
     "output_type": "display_data"
    }
   ],
   "source": [
    "tree_depth = 10\n",
    "num_etimator = 100 # we found above that this is a good number\n",
    "\n",
    "clf = tree.DecisionTreeClassifier(max_depth = tree_depth)\n",
    "clf_bag = BaggingClassifier(base_estimator=clf,n_estimators=num_etimator, max_samples=avgU,max_features=1.) \n",
    "val_ob.learning_curve(clf_bag, X, y, scoring='accuracy', n_splits=5) # Using X and y, not train_X and train_y"
   ]
  },
  {
   "cell_type": "code",
   "execution_count": 17,
   "metadata": {},
   "outputs": [],
   "source": [
    "# We can see that there is still a bit of gap between train and test score above.\n",
    "# Let see if RF (that has more randomness than bagging) helps. "
   ]
  },
  {
   "cell_type": "markdown",
   "metadata": {},
   "source": [
    "# RF"
   ]
  },
  {
   "cell_type": "code",
   "execution_count": 18,
   "metadata": {
    "scrolled": true
   },
   "outputs": [
    {
     "name": "stdout",
     "output_type": "stream",
     "text": [
      "10  train:  0.9931506849315068  test:  0.898936170212766\n",
      "20  train:  1.0  test:  0.9042553191489362\n",
      "50  train:  1.0  test:  0.9042553191489362\n",
      "100  train:  1.0  test:  0.9042553191489362\n",
      "200  train:  1.0  test:  0.9095744680851063\n",
      "300  train:  1.0  test:  0.9042553191489362\n"
     ]
    }
   ],
   "source": [
    "# clf = RandomForestClassifier(n_estimators=1,criterion='entropy',bootstrap=False,class_weight='balanced_subsample')\n",
    "\n",
    "tree_depth = 10\n",
    "num_estimator = [10, 20, 50, 100, 200, 300]\n",
    "avgU = 1.\n",
    "\n",
    "for i in num_estimator:\n",
    "    clf = tree.DecisionTreeClassifier(max_depth = tree_depth)\n",
    "    clf = RandomForestClassifier(n_estimators=i, criterion='entropy', max_depth = tree_depth,  max_features=None) \n",
    "    clf_RF = clf.fit(train_X, train_y)\n",
    "    acc_train_RF = clf_RF.score(train_X, train_y)\n",
    "    acc_test_RF = clf_RF.score(test_X, test_y)\n",
    "    print(i, ' train: ',  acc_train_RF, ' test: ',  acc_test_RF)\n",
    "    \n",
    "# The result below shows that test accuracy still can't be improved.\n",
    "# So, it means that bagging is best till now. Can we use max_feature hyperparamter\n",
    "# for improving RF further OR may be we can use boosting?\n"
   ]
  },
  {
   "cell_type": "code",
   "execution_count": 19,
   "metadata": {},
   "outputs": [],
   "source": [
    "## Next questions to consider\n",
    "# 1) For our case, there is a very small gap beteen train and test accuracy. We can \n",
    "# see that in our learning curves. This means that even if we increase the model complexity, \n",
    "# we may not be able to improve test accuracy. Thus, there is no point trying more fancier\n",
    "# classifiers. \n",
    "\n",
    "# Can you prove me wrong? Try other fancier classifiers and see if my conclusion is right. Please show the results\n",
    "# in our next meeting\n",
    "\n",
    "## Next Question: Based on my conclusion above we are only left with adding more data. Lets do that\n",
    "\n",
    "### Next question: I didn't use most of the things mentioned in the book. See what happens if we use that \n",
    "\n",
    "#### Next Question: Try the same excercise above with different metrics such as Profit, sharp ratio etc.\n",
    "\n",
    "##### Next Question :THis is specific for Siba: TRy the above exercise for ADABTC data and you will see that \n",
    "# it is overfitting very soon.Can you guess the reason. Hint : It has to do with volatility and the \n",
    "# profits defined by volatility.\n",
    "\n",
    "###### I expect all of you to think in such depth and then do these different experiments. This will not only\n",
    "# help the project but will also help you to learn and develop in-depth understanding about machine learning.\n"
   ]
  },
  {
   "cell_type": "code",
   "execution_count": null,
   "metadata": {},
   "outputs": [],
   "source": []
  }
 ],
 "metadata": {
  "kernelspec": {
   "display_name": "Python 3",
   "language": "python",
   "name": "python3"
  },
  "language_info": {
   "codemirror_mode": {
    "name": "ipython",
    "version": 3
   },
   "file_extension": ".py",
   "mimetype": "text/x-python",
   "name": "python",
   "nbconvert_exporter": "python",
   "pygments_lexer": "ipython3",
   "version": "3.6.7"
  },
  "varInspector": {
   "cols": {
    "lenName": 16,
    "lenType": 16,
    "lenVar": 40
   },
   "kernels_config": {
    "python": {
     "delete_cmd_postfix": "",
     "delete_cmd_prefix": "del ",
     "library": "var_list.py",
     "varRefreshCmd": "print(var_dic_list())"
    },
    "r": {
     "delete_cmd_postfix": ") ",
     "delete_cmd_prefix": "rm(",
     "library": "var_list.r",
     "varRefreshCmd": "cat(var_dic_list()) "
    }
   },
   "types_to_exclude": [
    "module",
    "function",
    "builtin_function_or_method",
    "instance",
    "_Feature"
   ],
   "window_display": false
  }
 },
 "nbformat": 4,
 "nbformat_minor": 2
}
